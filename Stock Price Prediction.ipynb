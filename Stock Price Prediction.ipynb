{
 "cells": [
  {
   "cell_type": "markdown",
   "id": "3eca385f-82b2-47b3-a5ab-d74af165ff84",
   "metadata": {},
   "source": [
    "STOCK MARKET PREDICTION"
   ]
  },
  {
   "cell_type": "code",
   "execution_count": 1,
   "id": "2f436b58-6e61-40e1-ae0e-25bc039fe2df",
   "metadata": {},
   "outputs": [
    {
     "name": "stdout",
     "output_type": "stream",
     "text": [
      "Requirement already satisfied: pandas_datareader in c:\\users\\asus\\anaconda3\\lib\\site-packages (0.10.0)\n",
      "Requirement already satisfied: lxml in c:\\users\\asus\\anaconda3\\lib\\site-packages (from pandas_datareader) (5.2.1)\n",
      "Requirement already satisfied: pandas>=0.23 in c:\\users\\asus\\anaconda3\\lib\\site-packages (from pandas_datareader) (2.2.2)\n",
      "Requirement already satisfied: requests>=2.19.0 in c:\\users\\asus\\anaconda3\\lib\\site-packages (from pandas_datareader) (2.32.3)\n",
      "Requirement already satisfied: numpy>=1.26.0 in c:\\users\\asus\\anaconda3\\lib\\site-packages (from pandas>=0.23->pandas_datareader) (1.26.4)\n",
      "Requirement already satisfied: python-dateutil>=2.8.2 in c:\\users\\asus\\anaconda3\\lib\\site-packages (from pandas>=0.23->pandas_datareader) (2.9.0.post0)\n",
      "Requirement already satisfied: pytz>=2020.1 in c:\\users\\asus\\anaconda3\\lib\\site-packages (from pandas>=0.23->pandas_datareader) (2024.1)\n",
      "Requirement already satisfied: tzdata>=2022.7 in c:\\users\\asus\\anaconda3\\lib\\site-packages (from pandas>=0.23->pandas_datareader) (2023.3)\n",
      "Requirement already satisfied: charset-normalizer<4,>=2 in c:\\users\\asus\\anaconda3\\lib\\site-packages (from requests>=2.19.0->pandas_datareader) (3.3.2)\n",
      "Requirement already satisfied: idna<4,>=2.5 in c:\\users\\asus\\anaconda3\\lib\\site-packages (from requests>=2.19.0->pandas_datareader) (3.7)\n",
      "Requirement already satisfied: urllib3<3,>=1.21.1 in c:\\users\\asus\\anaconda3\\lib\\site-packages (from requests>=2.19.0->pandas_datareader) (2.2.3)\n",
      "Requirement already satisfied: certifi>=2017.4.17 in c:\\users\\asus\\anaconda3\\lib\\site-packages (from requests>=2.19.0->pandas_datareader) (2025.4.26)\n",
      "Requirement already satisfied: six>=1.5 in c:\\users\\asus\\anaconda3\\lib\\site-packages (from python-dateutil>=2.8.2->pandas>=0.23->pandas_datareader) (1.16.0)\n"
     ]
    }
   ],
   "source": [
    "!pip install pandas_datareader"
   ]
  },
  {
   "cell_type": "code",
   "execution_count": 2,
   "id": "11ae35d8-050f-475f-9bb6-15159697fb9a",
   "metadata": {},
   "outputs": [],
   "source": [
    "import pandas_datareader as pdr\n",
    "import datetime"
   ]
  },
  {
   "cell_type": "code",
   "execution_count": 3,
   "id": "e57bf4ea-80ff-44df-ab5a-50935b1fd376",
   "metadata": {},
   "outputs": [
    {
     "name": "stdout",
     "output_type": "stream",
     "text": [
      "Requirement already satisfied: yfinance in c:\\users\\asus\\anaconda3\\lib\\site-packages (0.2.63)\n",
      "Requirement already satisfied: pandas>=1.3.0 in c:\\users\\asus\\anaconda3\\lib\\site-packages (from yfinance) (2.2.2)\n",
      "Requirement already satisfied: numpy>=1.16.5 in c:\\users\\asus\\anaconda3\\lib\\site-packages (from yfinance) (1.26.4)\n",
      "Requirement already satisfied: requests>=2.31 in c:\\users\\asus\\anaconda3\\lib\\site-packages (from yfinance) (2.32.3)\n",
      "Requirement already satisfied: multitasking>=0.0.7 in c:\\users\\asus\\anaconda3\\lib\\site-packages (from yfinance) (0.0.11)\n",
      "Requirement already satisfied: platformdirs>=2.0.0 in c:\\users\\asus\\anaconda3\\lib\\site-packages (from yfinance) (3.10.0)\n",
      "Requirement already satisfied: pytz>=2022.5 in c:\\users\\asus\\anaconda3\\lib\\site-packages (from yfinance) (2024.1)\n",
      "Requirement already satisfied: frozendict>=2.3.4 in c:\\users\\asus\\anaconda3\\lib\\site-packages (from yfinance) (2.4.2)\n",
      "Requirement already satisfied: peewee>=3.16.2 in c:\\users\\asus\\anaconda3\\lib\\site-packages (from yfinance) (3.18.1)\n",
      "Requirement already satisfied: beautifulsoup4>=4.11.1 in c:\\users\\asus\\anaconda3\\lib\\site-packages (from yfinance) (4.12.3)\n",
      "Requirement already satisfied: curl_cffi>=0.7 in c:\\users\\asus\\anaconda3\\lib\\site-packages (from yfinance) (0.11.3)\n",
      "Requirement already satisfied: protobuf>=3.19.0 in c:\\users\\asus\\anaconda3\\lib\\site-packages (from yfinance) (4.25.3)\n",
      "Requirement already satisfied: websockets>=13.0 in c:\\users\\asus\\anaconda3\\lib\\site-packages (from yfinance) (15.0.1)\n",
      "Requirement already satisfied: soupsieve>1.2 in c:\\users\\asus\\anaconda3\\lib\\site-packages (from beautifulsoup4>=4.11.1->yfinance) (2.5)\n",
      "Requirement already satisfied: cffi>=1.12.0 in c:\\users\\asus\\anaconda3\\lib\\site-packages (from curl_cffi>=0.7->yfinance) (1.17.1)\n",
      "Requirement already satisfied: certifi>=2024.2.2 in c:\\users\\asus\\anaconda3\\lib\\site-packages (from curl_cffi>=0.7->yfinance) (2025.4.26)\n",
      "Requirement already satisfied: python-dateutil>=2.8.2 in c:\\users\\asus\\anaconda3\\lib\\site-packages (from pandas>=1.3.0->yfinance) (2.9.0.post0)\n",
      "Requirement already satisfied: tzdata>=2022.7 in c:\\users\\asus\\anaconda3\\lib\\site-packages (from pandas>=1.3.0->yfinance) (2023.3)\n",
      "Requirement already satisfied: charset-normalizer<4,>=2 in c:\\users\\asus\\anaconda3\\lib\\site-packages (from requests>=2.31->yfinance) (3.3.2)\n",
      "Requirement already satisfied: idna<4,>=2.5 in c:\\users\\asus\\anaconda3\\lib\\site-packages (from requests>=2.31->yfinance) (3.7)\n",
      "Requirement already satisfied: urllib3<3,>=1.21.1 in c:\\users\\asus\\anaconda3\\lib\\site-packages (from requests>=2.31->yfinance) (2.2.3)\n",
      "Requirement already satisfied: pycparser in c:\\users\\asus\\anaconda3\\lib\\site-packages (from cffi>=1.12.0->curl_cffi>=0.7->yfinance) (2.21)\n",
      "Requirement already satisfied: six>=1.5 in c:\\users\\asus\\anaconda3\\lib\\site-packages (from python-dateutil>=2.8.2->pandas>=1.3.0->yfinance) (1.16.0)\n",
      "Note: you may need to restart the kernel to use updated packages.\n"
     ]
    }
   ],
   "source": [
    "pip install yfinance"
   ]
  },
  {
   "cell_type": "code",
   "execution_count": 4,
   "id": "026537d1-52c1-4998-90f5-25d9bde9f885",
   "metadata": {},
   "outputs": [
    {
     "name": "stderr",
     "output_type": "stream",
     "text": [
      "C:\\Users\\Asus\\AppData\\Local\\Temp\\ipykernel_19592\\2950931758.py:2: FutureWarning: YF.download() has changed argument auto_adjust default to True\n",
      "  df = yf.download('AAPL', start ='2015-05-27', end = '2020-05-22')\n",
      "[*********************100%***********************]  1 of 1 completed\n"
     ]
    },
    {
     "data": {
      "text/html": [
       "<div>\n",
       "<style scoped>\n",
       "    .dataframe tbody tr th:only-of-type {\n",
       "        vertical-align: middle;\n",
       "    }\n",
       "\n",
       "    .dataframe tbody tr th {\n",
       "        vertical-align: top;\n",
       "    }\n",
       "\n",
       "    .dataframe thead tr th {\n",
       "        text-align: left;\n",
       "    }\n",
       "\n",
       "    .dataframe thead tr:last-of-type th {\n",
       "        text-align: right;\n",
       "    }\n",
       "</style>\n",
       "<table border=\"1\" class=\"dataframe\">\n",
       "  <thead>\n",
       "    <tr>\n",
       "      <th>Price</th>\n",
       "      <th>Close</th>\n",
       "      <th>High</th>\n",
       "      <th>Low</th>\n",
       "      <th>Open</th>\n",
       "      <th>Volume</th>\n",
       "    </tr>\n",
       "    <tr>\n",
       "      <th>Ticker</th>\n",
       "      <th>AAPL</th>\n",
       "      <th>AAPL</th>\n",
       "      <th>AAPL</th>\n",
       "      <th>AAPL</th>\n",
       "      <th>AAPL</th>\n",
       "    </tr>\n",
       "    <tr>\n",
       "      <th>Date</th>\n",
       "      <th></th>\n",
       "      <th></th>\n",
       "      <th></th>\n",
       "      <th></th>\n",
       "      <th></th>\n",
       "    </tr>\n",
       "  </thead>\n",
       "  <tbody>\n",
       "    <tr>\n",
       "      <th>2015-05-27</th>\n",
       "      <td>29.572575</td>\n",
       "      <td>29.621848</td>\n",
       "      <td>29.126883</td>\n",
       "      <td>29.191832</td>\n",
       "      <td>183332800</td>\n",
       "    </tr>\n",
       "    <tr>\n",
       "      <th>2015-05-28</th>\n",
       "      <td>29.514353</td>\n",
       "      <td>29.552427</td>\n",
       "      <td>29.362057</td>\n",
       "      <td>29.532271</td>\n",
       "      <td>122933200</td>\n",
       "    </tr>\n",
       "    <tr>\n",
       "      <th>2015-05-29</th>\n",
       "      <td>29.178396</td>\n",
       "      <td>29.440437</td>\n",
       "      <td>29.093288</td>\n",
       "      <td>29.391164</td>\n",
       "      <td>203538000</td>\n",
       "    </tr>\n",
       "    <tr>\n",
       "      <th>2015-06-01</th>\n",
       "      <td>29.236626</td>\n",
       "      <td>29.426999</td>\n",
       "      <td>29.126884</td>\n",
       "      <td>29.178396</td>\n",
       "      <td>128451200</td>\n",
       "    </tr>\n",
       "    <tr>\n",
       "      <th>2015-06-02</th>\n",
       "      <td>29.106733</td>\n",
       "      <td>29.263509</td>\n",
       "      <td>28.963395</td>\n",
       "      <td>29.084335</td>\n",
       "      <td>134670400</td>\n",
       "    </tr>\n",
       "  </tbody>\n",
       "</table>\n",
       "</div>"
      ],
      "text/plain": [
       "Price           Close       High        Low       Open     Volume\n",
       "Ticker           AAPL       AAPL       AAPL       AAPL       AAPL\n",
       "Date                                                             \n",
       "2015-05-27  29.572575  29.621848  29.126883  29.191832  183332800\n",
       "2015-05-28  29.514353  29.552427  29.362057  29.532271  122933200\n",
       "2015-05-29  29.178396  29.440437  29.093288  29.391164  203538000\n",
       "2015-06-01  29.236626  29.426999  29.126884  29.178396  128451200\n",
       "2015-06-02  29.106733  29.263509  28.963395  29.084335  134670400"
      ]
     },
     "execution_count": 4,
     "metadata": {},
     "output_type": "execute_result"
    }
   ],
   "source": [
    "import yfinance as yf\n",
    "df = yf.download('AAPL', start ='2015-05-27', end = '2020-05-22')\n",
    "df.head()"
   ]
  },
  {
   "cell_type": "code",
   "execution_count": 5,
   "id": "7572abc9-b93c-4e1c-bbbb-3ba63fb8ff4b",
   "metadata": {},
   "outputs": [],
   "source": [
    "df.to_csv('AAPL_stock_data.csv')"
   ]
  },
  {
   "cell_type": "code",
   "execution_count": 6,
   "id": "7e69e45e-3ec8-4b64-b417-e8244081328b",
   "metadata": {},
   "outputs": [],
   "source": [
    "import pandas as pd"
   ]
  },
  {
   "cell_type": "code",
   "execution_count": 7,
   "id": "d27c3376-5373-4553-920b-baebce073025",
   "metadata": {},
   "outputs": [],
   "source": [
    "data = pd.read_csv('AAPL_stock_data.csv')"
   ]
  },
  {
   "cell_type": "code",
   "execution_count": 8,
   "id": "e4de906d-9e34-43d9-b3ee-601027734357",
   "metadata": {},
   "outputs": [
    {
     "data": {
      "text/html": [
       "<div>\n",
       "<style scoped>\n",
       "    .dataframe tbody tr th:only-of-type {\n",
       "        vertical-align: middle;\n",
       "    }\n",
       "\n",
       "    .dataframe tbody tr th {\n",
       "        vertical-align: top;\n",
       "    }\n",
       "\n",
       "    .dataframe thead th {\n",
       "        text-align: right;\n",
       "    }\n",
       "</style>\n",
       "<table border=\"1\" class=\"dataframe\">\n",
       "  <thead>\n",
       "    <tr style=\"text-align: right;\">\n",
       "      <th></th>\n",
       "      <th>Price</th>\n",
       "      <th>Close</th>\n",
       "      <th>High</th>\n",
       "      <th>Low</th>\n",
       "      <th>Open</th>\n",
       "      <th>Volume</th>\n",
       "    </tr>\n",
       "  </thead>\n",
       "  <tbody>\n",
       "    <tr>\n",
       "      <th>0</th>\n",
       "      <td>Ticker</td>\n",
       "      <td>AAPL</td>\n",
       "      <td>AAPL</td>\n",
       "      <td>AAPL</td>\n",
       "      <td>AAPL</td>\n",
       "      <td>AAPL</td>\n",
       "    </tr>\n",
       "    <tr>\n",
       "      <th>1</th>\n",
       "      <td>Date</td>\n",
       "      <td>NaN</td>\n",
       "      <td>NaN</td>\n",
       "      <td>NaN</td>\n",
       "      <td>NaN</td>\n",
       "      <td>NaN</td>\n",
       "    </tr>\n",
       "    <tr>\n",
       "      <th>2</th>\n",
       "      <td>2015-05-27</td>\n",
       "      <td>29.572574615478516</td>\n",
       "      <td>29.621847584620834</td>\n",
       "      <td>29.12688287295774</td>\n",
       "      <td>29.191831740938717</td>\n",
       "      <td>183332800</td>\n",
       "    </tr>\n",
       "    <tr>\n",
       "      <th>3</th>\n",
       "      <td>2015-05-28</td>\n",
       "      <td>29.514352798461914</td>\n",
       "      <td>29.552426754903117</td>\n",
       "      <td>29.36205697269711</td>\n",
       "      <td>29.532270557515968</td>\n",
       "      <td>122933200</td>\n",
       "    </tr>\n",
       "    <tr>\n",
       "      <th>4</th>\n",
       "      <td>2015-05-29</td>\n",
       "      <td>29.178396224975586</td>\n",
       "      <td>29.440436986994744</td>\n",
       "      <td>29.093287742153812</td>\n",
       "      <td>29.39116401456765</td>\n",
       "      <td>203538000</td>\n",
       "    </tr>\n",
       "  </tbody>\n",
       "</table>\n",
       "</div>"
      ],
      "text/plain": [
       "        Price               Close                High                 Low  \\\n",
       "0      Ticker                AAPL                AAPL                AAPL   \n",
       "1        Date                 NaN                 NaN                 NaN   \n",
       "2  2015-05-27  29.572574615478516  29.621847584620834   29.12688287295774   \n",
       "3  2015-05-28  29.514352798461914  29.552426754903117   29.36205697269711   \n",
       "4  2015-05-29  29.178396224975586  29.440436986994744  29.093287742153812   \n",
       "\n",
       "                 Open     Volume  \n",
       "0                AAPL       AAPL  \n",
       "1                 NaN        NaN  \n",
       "2  29.191831740938717  183332800  \n",
       "3  29.532270557515968  122933200  \n",
       "4   29.39116401456765  203538000  "
      ]
     },
     "execution_count": 8,
     "metadata": {},
     "output_type": "execute_result"
    }
   ],
   "source": [
    "data.head()"
   ]
  },
  {
   "cell_type": "code",
   "execution_count": 9,
   "id": "333300bd-e246-49c6-80e6-9c6d3ac76ded",
   "metadata": {},
   "outputs": [],
   "source": [
    "data= data.iloc[2:].reset_index(drop=True)"
   ]
  },
  {
   "cell_type": "code",
   "execution_count": 10,
   "id": "3b6df903-d4d8-4f14-b813-c8620a71a46d",
   "metadata": {},
   "outputs": [
    {
     "data": {
      "text/html": [
       "<div>\n",
       "<style scoped>\n",
       "    .dataframe tbody tr th:only-of-type {\n",
       "        vertical-align: middle;\n",
       "    }\n",
       "\n",
       "    .dataframe tbody tr th {\n",
       "        vertical-align: top;\n",
       "    }\n",
       "\n",
       "    .dataframe thead th {\n",
       "        text-align: right;\n",
       "    }\n",
       "</style>\n",
       "<table border=\"1\" class=\"dataframe\">\n",
       "  <thead>\n",
       "    <tr style=\"text-align: right;\">\n",
       "      <th></th>\n",
       "      <th>Price</th>\n",
       "      <th>Close</th>\n",
       "      <th>High</th>\n",
       "      <th>Low</th>\n",
       "      <th>Open</th>\n",
       "      <th>Volume</th>\n",
       "    </tr>\n",
       "  </thead>\n",
       "  <tbody>\n",
       "    <tr>\n",
       "      <th>0</th>\n",
       "      <td>2015-05-27</td>\n",
       "      <td>29.572574615478516</td>\n",
       "      <td>29.621847584620834</td>\n",
       "      <td>29.12688287295774</td>\n",
       "      <td>29.191831740938717</td>\n",
       "      <td>183332800</td>\n",
       "    </tr>\n",
       "    <tr>\n",
       "      <th>1</th>\n",
       "      <td>2015-05-28</td>\n",
       "      <td>29.514352798461914</td>\n",
       "      <td>29.552426754903117</td>\n",
       "      <td>29.36205697269711</td>\n",
       "      <td>29.532270557515968</td>\n",
       "      <td>122933200</td>\n",
       "    </tr>\n",
       "    <tr>\n",
       "      <th>2</th>\n",
       "      <td>2015-05-29</td>\n",
       "      <td>29.178396224975586</td>\n",
       "      <td>29.440436986994744</td>\n",
       "      <td>29.093287742153812</td>\n",
       "      <td>29.39116401456765</td>\n",
       "      <td>203538000</td>\n",
       "    </tr>\n",
       "    <tr>\n",
       "      <th>3</th>\n",
       "      <td>2015-06-01</td>\n",
       "      <td>29.23662567138672</td>\n",
       "      <td>29.426998825554183</td>\n",
       "      <td>29.12688412242206</td>\n",
       "      <td>29.17839553147613</td>\n",
       "      <td>128451200</td>\n",
       "    </tr>\n",
       "    <tr>\n",
       "      <th>4</th>\n",
       "      <td>2015-06-02</td>\n",
       "      <td>29.106733322143555</td>\n",
       "      <td>29.26350943361036</td>\n",
       "      <td>28.963394674879204</td>\n",
       "      <td>29.08433527016419</td>\n",
       "      <td>134670400</td>\n",
       "    </tr>\n",
       "  </tbody>\n",
       "</table>\n",
       "</div>"
      ],
      "text/plain": [
       "        Price               Close                High                 Low  \\\n",
       "0  2015-05-27  29.572574615478516  29.621847584620834   29.12688287295774   \n",
       "1  2015-05-28  29.514352798461914  29.552426754903117   29.36205697269711   \n",
       "2  2015-05-29  29.178396224975586  29.440436986994744  29.093287742153812   \n",
       "3  2015-06-01   29.23662567138672  29.426998825554183   29.12688412242206   \n",
       "4  2015-06-02  29.106733322143555   29.26350943361036  28.963394674879204   \n",
       "\n",
       "                 Open     Volume  \n",
       "0  29.191831740938717  183332800  \n",
       "1  29.532270557515968  122933200  \n",
       "2   29.39116401456765  203538000  \n",
       "3   29.17839553147613  128451200  \n",
       "4   29.08433527016419  134670400  "
      ]
     },
     "execution_count": 10,
     "metadata": {},
     "output_type": "execute_result"
    }
   ],
   "source": [
    "data.head()"
   ]
  },
  {
   "cell_type": "code",
   "execution_count": 11,
   "id": "1d3c590c-0e32-4a1b-81ad-8209469e3c33",
   "metadata": {},
   "outputs": [
    {
     "data": {
      "text/html": [
       "<div>\n",
       "<style scoped>\n",
       "    .dataframe tbody tr th:only-of-type {\n",
       "        vertical-align: middle;\n",
       "    }\n",
       "\n",
       "    .dataframe tbody tr th {\n",
       "        vertical-align: top;\n",
       "    }\n",
       "\n",
       "    .dataframe thead th {\n",
       "        text-align: right;\n",
       "    }\n",
       "</style>\n",
       "<table border=\"1\" class=\"dataframe\">\n",
       "  <thead>\n",
       "    <tr style=\"text-align: right;\">\n",
       "      <th></th>\n",
       "      <th>Price</th>\n",
       "      <th>Close</th>\n",
       "      <th>High</th>\n",
       "      <th>Low</th>\n",
       "      <th>Open</th>\n",
       "      <th>Volume</th>\n",
       "    </tr>\n",
       "  </thead>\n",
       "  <tbody>\n",
       "    <tr>\n",
       "      <th>1252</th>\n",
       "      <td>2020-05-15</td>\n",
       "      <td>74.77883911132812</td>\n",
       "      <td>74.82501298410193</td>\n",
       "      <td>72.95620965856679</td>\n",
       "      <td>72.9902356348415</td>\n",
       "      <td>166348400</td>\n",
       "    </tr>\n",
       "    <tr>\n",
       "      <th>1253</th>\n",
       "      <td>2020-05-18</td>\n",
       "      <td>76.54071044921875</td>\n",
       "      <td>76.9149590881701</td>\n",
       "      <td>75.41311427356375</td>\n",
       "      <td>76.10571491448931</td>\n",
       "      <td>135178400</td>\n",
       "    </tr>\n",
       "    <tr>\n",
       "      <th>1254</th>\n",
       "      <td>2020-05-19</td>\n",
       "      <td>76.09843444824219</td>\n",
       "      <td>77.40586118201702</td>\n",
       "      <td>76.06684101530527</td>\n",
       "      <td>76.55773324993602</td>\n",
       "      <td>101729600</td>\n",
       "    </tr>\n",
       "    <tr>\n",
       "      <th>1255</th>\n",
       "      <td>2020-05-20</td>\n",
       "      <td>77.57842254638672</td>\n",
       "      <td>77.6488922301891</td>\n",
       "      <td>76.91984026254961</td>\n",
       "      <td>76.95872392411307</td>\n",
       "      <td>111504800</td>\n",
       "    </tr>\n",
       "    <tr>\n",
       "      <th>1256</th>\n",
       "      <td>2020-05-21</td>\n",
       "      <td>77.00000762939453</td>\n",
       "      <td>77.98179927461916</td>\n",
       "      <td>76.76184808396121</td>\n",
       "      <td>77.4398682042287</td>\n",
       "      <td>102688800</td>\n",
       "    </tr>\n",
       "  </tbody>\n",
       "</table>\n",
       "</div>"
      ],
      "text/plain": [
       "           Price              Close               High                Low  \\\n",
       "1252  2020-05-15  74.77883911132812  74.82501298410193  72.95620965856679   \n",
       "1253  2020-05-18  76.54071044921875   76.9149590881701  75.41311427356375   \n",
       "1254  2020-05-19  76.09843444824219  77.40586118201702  76.06684101530527   \n",
       "1255  2020-05-20  77.57842254638672   77.6488922301891  76.91984026254961   \n",
       "1256  2020-05-21  77.00000762939453  77.98179927461916  76.76184808396121   \n",
       "\n",
       "                   Open     Volume  \n",
       "1252   72.9902356348415  166348400  \n",
       "1253  76.10571491448931  135178400  \n",
       "1254  76.55773324993602  101729600  \n",
       "1255  76.95872392411307  111504800  \n",
       "1256   77.4398682042287  102688800  "
      ]
     },
     "execution_count": 11,
     "metadata": {},
     "output_type": "execute_result"
    }
   ],
   "source": [
    "data.tail()"
   ]
  },
  {
   "cell_type": "code",
   "execution_count": 12,
   "id": "01e773dd-46cc-45c6-a20d-3906c28305db",
   "metadata": {},
   "outputs": [],
   "source": [
    "df1= data.reset_index()['Close']"
   ]
  },
  {
   "cell_type": "code",
   "execution_count": 13,
   "id": "9aa8a056-90b8-416a-b8c1-518a19a02a20",
   "metadata": {},
   "outputs": [
    {
     "data": {
      "text/plain": [
       "(1257,)"
      ]
     },
     "execution_count": 13,
     "metadata": {},
     "output_type": "execute_result"
    }
   ],
   "source": [
    "df1.shape"
   ]
  },
  {
   "cell_type": "code",
   "execution_count": 14,
   "id": "a86a985a-074f-47b0-9e07-4ebcab8bdd82",
   "metadata": {},
   "outputs": [
    {
     "data": {
      "text/plain": [
       "0       29.572574615478516\n",
       "1       29.514352798461914\n",
       "2       29.178396224975586\n",
       "3        29.23662567138672\n",
       "4       29.106733322143555\n",
       "               ...        \n",
       "1252     74.77883911132812\n",
       "1253     76.54071044921875\n",
       "1254     76.09843444824219\n",
       "1255     77.57842254638672\n",
       "1256     77.00000762939453\n",
       "Name: Close, Length: 1257, dtype: object"
      ]
     },
     "execution_count": 14,
     "metadata": {},
     "output_type": "execute_result"
    }
   ],
   "source": [
    "df1"
   ]
  },
  {
   "cell_type": "code",
   "execution_count": 15,
   "id": "55294bdc-ce92-4838-a1c4-f9488041fe8c",
   "metadata": {},
   "outputs": [
    {
     "data": {
      "image/png": "[encoded data removed]",
      "text/plain": [
       "<Figure size 1200x600 with 1 Axes>"
      ]
     },
     "metadata": {},
     "output_type": "display_data"
    }
   ],
   "source": [
    "import matplotlib.pyplot as plt\n",
    "plt.figure(figsize = (12,6))\n",
    "plt.plot(df1)\n",
    "plt.title(\"AAPL Closing Prices\")\n",
    "plt.xlabel(\"Days\")\n",
    "plt.ylabel(\"Price ($)\")\n",
    "plt.grid(True)\n",
    "plt.tight_layout()\n",
    "plt.show()"
   ]
  },
  {
   "cell_type": "code",
   "execution_count": 16,
   "id": "8d832be5-30f0-46db-8f1d-cf10680a73a4",
   "metadata": {},
   "outputs": [],
   "source": [
    "df1 = df1.astype(float)"
   ]
  },
  {
   "cell_type": "code",
   "execution_count": 17,
   "id": "3cbaf321-b9c0-4d12-93df-a86c025fac95",
   "metadata": {},
   "outputs": [
    {
     "data": {
      "image/png": "[encoded data removed]",
      "text/plain": [
       "<Figure size 1200x600 with 1 Axes>"
      ]
     },
     "metadata": {},
     "output_type": "display_data"
    }
   ],
   "source": [
    "plt.figure(figsize = (12,6))\n",
    "plt.plot(df1)\n",
    "plt.title(\"AAPL Closing Prices\")\n",
    "plt.xlabel(\"Days\")\n",
    "plt.ylabel(\"Price ($)\")\n",
    "plt.grid(True)\n",
    "plt.tight_layout()\n",
    "plt.show()"
   ]
  },
  {
   "cell_type": "code",
   "execution_count": 18,
   "id": "3b146817-4ad7-4f9c-b04a-0c3489b89372",
   "metadata": {},
   "outputs": [],
   "source": [
    "import numpy as np"
   ]
  },
  {
   "cell_type": "code",
   "execution_count": 19,
   "id": "2b0c1f75-a04d-45eb-81f9-c2f7be4c51b8",
   "metadata": {},
   "outputs": [],
   "source": [
    "from sklearn.preprocessing import MinMaxScaler\n",
    "scaler = MinMaxScaler(feature_range =(0,1))\n",
    "df1= scaler.fit_transform(np.array(df1).reshape(-1,1))"
   ]
  },
  {
   "cell_type": "code",
   "execution_count": 20,
   "id": "de80fdf2-9bcb-49c0-9ca5-44f554417daf",
   "metadata": {},
   "outputs": [
    {
     "data": {
      "text/plain": [
       "(1257, 1)"
      ]
     },
     "execution_count": 20,
     "metadata": {},
     "output_type": "execute_result"
    }
   ],
   "source": [
    "df1.shape"
   ]
  },
  {
   "cell_type": "code",
   "execution_count": 21,
   "id": "20dae6ac-6256-4c37-8750-2867aa6a99ff",
   "metadata": {},
   "outputs": [
    {
     "data": {
      "text/plain": [
       "array([[0.15216772],\n",
       "       [0.15117507],\n",
       "       [0.14544722],\n",
       "       ...,\n",
       "       [0.94540495],\n",
       "       [0.97063784],\n",
       "       [0.96077622]])"
      ]
     },
     "execution_count": 21,
     "metadata": {},
     "output_type": "execute_result"
    }
   ],
   "source": [
    " df1"
   ]
  },
  {
   "cell_type": "markdown",
   "id": "547ca3cd-c9c8-4931-bb48-2698bb00fe10",
   "metadata": {},
   "source": [
    "SPLITTING THE DATASET INTO TRAIN TEST SPLIT"
   ]
  },
  {
   "cell_type": "code",
   "execution_count": 22,
   "id": "f292fdac-52ab-47e7-9b8d-7a5ab3f11376",
   "metadata": {},
   "outputs": [],
   "source": [
    "trainning_size = int(len(df1)*0.65)\n",
    "test_size = len(df1)-trainning_size\n",
    "train_data,test_data= df1[0:trainning_size,:],df1[trainning_size:len(df1),:1]"
   ]
  },
  {
   "cell_type": "code",
   "execution_count": 23,
   "id": "f4ccf46f-6598-4609-905e-8c85971c4c6e",
   "metadata": {},
   "outputs": [
    {
     "data": {
      "text/plain": [
       "(817, 440)"
      ]
     },
     "execution_count": 23,
     "metadata": {},
     "output_type": "execute_result"
    }
   ],
   "source": [
    "trainning_size,test_size"
   ]
  },
  {
   "cell_type": "code",
   "execution_count": 24,
   "id": "232285e0-ea0c-4979-89b4-b187d9ceef8c",
   "metadata": {},
   "outputs": [],
   "source": [
    "import numpy\n",
    "#converting array of value into a dataset matrix\n",
    "def create_dataset(dataset,time_step=1):\n",
    "    dataX, dataY =[],[]\n",
    "    for i in range(len(dataset)-time_step-1):\n",
    "        a= dataset[i:(i+time_step),0]\n",
    "        dataX.append(a)\n",
    "        dataY.append(dataset[i+time_step,0])\n",
    "    return numpy.array(dataX), numpy.array(dataY)"
   ]
  },
  {
   "cell_type": "code",
   "execution_count": 25,
   "id": "d7fa9f73-36e3-4008-9590-52fe45bce21e",
   "metadata": {},
   "outputs": [],
   "source": [
    "time_step = 100\n",
    "x_train , y_train = create_dataset(train_data,time_step)\n",
    "x_test ,y_test= create_dataset(test_data,time_step)"
   ]
  },
  {
   "cell_type": "code",
   "execution_count": 29,
   "id": "52fd8dd6-9d49-4d6a-9352-ba7ec7cda98b",
   "metadata": {},
   "outputs": [
    {
     "name": "stdout",
     "output_type": "stream",
     "text": [
      "(716, 100)\n",
      "(716,)\n"
     ]
    },
    {
     "data": {
      "text/plain": [
       "(None, None)"
      ]
     },
     "execution_count": 29,
     "metadata": {},
     "output_type": "execute_result"
    }
   ],
   "source": [
    "print(x_train.shape), print(y_train.shape)"
   ]
  },
  {
   "cell_type": "code",
   "execution_count": 30,
   "id": "ea4e4ce5-6bfe-4b3b-9504-a50b8ab23ffa",
   "metadata": {},
   "outputs": [
    {
     "name": "stdout",
     "output_type": "stream",
     "text": [
      "(716, 100)\n",
      "(339,)\n"
     ]
    },
    {
     "data": {
      "text/plain": [
       "(None, None)"
      ]
     },
     "execution_count": 30,
     "metadata": {},
     "output_type": "execute_result"
    }
   ],
   "source": [
    "print(x_train.shape),print(y_test.shape)"
   ]
  },
  {
   "cell_type": "code",
   "execution_count": 33,
   "id": "40f04842-1a6f-4336-80c7-ee1e23bb031f",
   "metadata": {},
   "outputs": [
    {
     "name": "stdout",
     "output_type": "stream",
     "text": [
      "Requirement already satisfied: tensorflow in c:\\users\\asus\\anaconda3\\lib\\site-packages (2.19.0)\n",
      "Requirement already satisfied: absl-py>=1.0.0 in c:\\users\\asus\\anaconda3\\lib\\site-packages (from tensorflow) (2.3.0)\n",
      "Requirement already satisfied: astunparse>=1.6.0 in c:\\users\\asus\\anaconda3\\lib\\site-packages (from tensorflow) (1.6.3)\n",
      "Requirement already satisfied: flatbuffers>=24.3.25 in c:\\users\\asus\\anaconda3\\lib\\site-packages (from tensorflow) (25.2.10)\n",
      "Requirement already satisfied: gast!=0.5.0,!=0.5.1,!=0.5.2,>=0.2.1 in c:\\users\\asus\\anaconda3\\lib\\site-packages (from tensorflow) (0.6.0)\n",
      "Requirement already satisfied: google-pasta>=0.1.1 in c:\\users\\asus\\anaconda3\\lib\\site-packages (from tensorflow) (0.2.0)\n",
      "Requirement already satisfied: libclang>=13.0.0 in c:\\users\\asus\\anaconda3\\lib\\site-packages (from tensorflow) (18.1.1)\n",
      "Requirement already satisfied: opt-einsum>=2.3.2 in c:\\users\\asus\\anaconda3\\lib\\site-packages (from tensorflow) (3.4.0)\n",
      "Requirement already satisfied: packaging in c:\\users\\asus\\anaconda3\\lib\\site-packages (from tensorflow) (24.1)\n",
      "Requirement already satisfied: protobuf!=4.21.0,!=4.21.1,!=4.21.2,!=4.21.3,!=4.21.4,!=4.21.5,<6.0.0dev,>=3.20.3 in c:\\users\\asus\\anaconda3\\lib\\site-packages (from tensorflow) (4.25.3)\n",
      "Requirement already satisfied: requests<3,>=2.21.0 in c:\\users\\asus\\anaconda3\\lib\\site-packages (from tensorflow) (2.32.3)\n",
      "Requirement already satisfied: setuptools in c:\\users\\asus\\anaconda3\\lib\\site-packages (from tensorflow) (75.1.0)\n",
      "Requirement already satisfied: six>=1.12.0 in c:\\users\\asus\\anaconda3\\lib\\site-packages (from tensorflow) (1.16.0)\n",
      "Requirement already satisfied: termcolor>=1.1.0 in c:\\users\\asus\\anaconda3\\lib\\site-packages (from tensorflow) (3.1.0)\n",
      "Requirement already satisfied: typing-extensions>=3.6.6 in c:\\users\\asus\\anaconda3\\lib\\site-packages (from tensorflow) (4.11.0)\n",
      "Requirement already satisfied: wrapt>=1.11.0 in c:\\users\\asus\\anaconda3\\lib\\site-packages (from tensorflow) (1.14.1)\n",
      "Requirement already satisfied: grpcio<2.0,>=1.24.3 in c:\\users\\asus\\anaconda3\\lib\\site-packages (from tensorflow) (1.73.0)\n",
      "Requirement already satisfied: tensorboard~=2.19.0 in c:\\users\\asus\\anaconda3\\lib\\site-packages (from tensorflow) (2.19.0)\n",
      "Requirement already satisfied: keras>=3.5.0 in c:\\users\\asus\\anaconda3\\lib\\site-packages (from tensorflow) (3.10.0)\n",
      "Requirement already satisfied: numpy<2.2.0,>=1.26.0 in c:\\users\\asus\\anaconda3\\lib\\site-packages (from tensorflow) (1.26.4)\n",
      "Requirement already satisfied: h5py>=3.11.0 in c:\\users\\asus\\anaconda3\\lib\\site-packages (from tensorflow) (3.11.0)\n",
      "Requirement already satisfied: ml-dtypes<1.0.0,>=0.5.1 in c:\\users\\asus\\anaconda3\\lib\\site-packages (from tensorflow) (0.5.1)\n",
      "Requirement already satisfied: wheel<1.0,>=0.23.0 in c:\\users\\asus\\anaconda3\\lib\\site-packages (from astunparse>=1.6.0->tensorflow) (0.44.0)\n",
      "Requirement already satisfied: rich in c:\\users\\asus\\anaconda3\\lib\\site-packages (from keras>=3.5.0->tensorflow) (13.7.1)\n",
      "Requirement already satisfied: namex in c:\\users\\asus\\anaconda3\\lib\\site-packages (from keras>=3.5.0->tensorflow) (0.1.0)\n",
      "Requirement already satisfied: optree in c:\\users\\asus\\anaconda3\\lib\\site-packages (from keras>=3.5.0->tensorflow) (0.16.0)\n",
      "Requirement already satisfied: charset-normalizer<4,>=2 in c:\\users\\asus\\anaconda3\\lib\\site-packages (from requests<3,>=2.21.0->tensorflow) (3.3.2)\n",
      "Requirement already satisfied: idna<4,>=2.5 in c:\\users\\asus\\anaconda3\\lib\\site-packages (from requests<3,>=2.21.0->tensorflow) (3.7)\n",
      "Requirement already satisfied: urllib3<3,>=1.21.1 in c:\\users\\asus\\anaconda3\\lib\\site-packages (from requests<3,>=2.21.0->tensorflow) (2.2.3)\n",
      "Requirement already satisfied: certifi>=2017.4.17 in c:\\users\\asus\\anaconda3\\lib\\site-packages (from requests<3,>=2.21.0->tensorflow) (2025.4.26)\n",
      "Requirement already satisfied: markdown>=2.6.8 in c:\\users\\asus\\anaconda3\\lib\\site-packages (from tensorboard~=2.19.0->tensorflow) (3.4.1)\n",
      "Requirement already satisfied: tensorboard-data-server<0.8.0,>=0.7.0 in c:\\users\\asus\\anaconda3\\lib\\site-packages (from tensorboard~=2.19.0->tensorflow) (0.7.2)\n",
      "Requirement already satisfied: werkzeug>=1.0.1 in c:\\users\\asus\\anaconda3\\lib\\site-packages (from tensorboard~=2.19.0->tensorflow) (3.0.3)\n",
      "Requirement already satisfied: MarkupSafe>=2.1.1 in c:\\users\\asus\\anaconda3\\lib\\site-packages (from werkzeug>=1.0.1->tensorboard~=2.19.0->tensorflow) (2.1.3)\n",
      "Requirement already satisfied: markdown-it-py>=2.2.0 in c:\\users\\asus\\anaconda3\\lib\\site-packages (from rich->keras>=3.5.0->tensorflow) (2.2.0)\n",
      "Requirement already satisfied: pygments<3.0.0,>=2.13.0 in c:\\users\\asus\\anaconda3\\lib\\site-packages (from rich->keras>=3.5.0->tensorflow) (2.15.1)\n",
      "Requirement already satisfied: mdurl~=0.1 in c:\\users\\asus\\anaconda3\\lib\\site-packages (from markdown-it-py>=2.2.0->rich->keras>=3.5.0->tensorflow) (0.1.0)\n"
     ]
    }
   ],
   "source": [
    "!pip install tensorflow"
   ]
  },
  {
   "cell_type": "code",
   "execution_count": 37,
   "id": "d042d0b3-54f7-49ff-9a84-0c68a9406502",
   "metadata": {},
   "outputs": [],
   "source": [
    "# reshape input to be [samples, time steps , features] which is requried for LSTM\n",
    "\n",
    "x_train = x_train.reshape(x_train.shape[0],x_train.shape[1],1)\n",
    "x_test = x_test.reshape(x_test.shape[0],x_test.shape[1],1)"
   ]
  },
  {
   "cell_type": "code",
   "execution_count": 39,
   "id": "78fa35be-51dd-483f-9b3b-bed03417d46b",
   "metadata": {},
   "outputs": [],
   "source": [
    "#Create the Stacked LSTM model\n",
    "from tensorflow.keras.models import Sequential\n",
    "from tensorflow.keras.layers import Dense\n",
    "from tensorflow.keras.layers import LSTM"
   ]
  },
  {
   "cell_type": "code",
   "execution_count": 41,
   "id": "6ed915a8-6f23-4ec7-a14c-c348fc07e4f8",
   "metadata": {},
   "outputs": [
    {
     "name": "stderr",
     "output_type": "stream",
     "text": [
      "C:\\Users\\Asus\\anaconda3\\Lib\\site-packages\\keras\\src\\layers\\rnn\\rnn.py:199: UserWarning: Do not pass an `input_shape`/`input_dim` argument to a layer. When using Sequential models, prefer using an `Input(shape)` object as the first layer in the model instead.\n",
      "  super().__init__(**kwargs)\n"
     ]
    }
   ],
   "source": [
    "model= Sequential()\n",
    "model.add(LSTM(50,return_sequences = True , input_shape=(100,1)))\n",
    "model.add(LSTM(50,return_sequences =True))\n",
    "model.add(LSTM(50))\n",
    "model.add(Dense(1))\n",
    "model.compile(loss = 'mean_squared_error', optimizer = 'adam')"
   ]
  },
  {
   "cell_type": "code",
   "execution_count": 42,
   "id": "22d180b6-7e4a-469a-a9d2-8d6d5d7e2300",
   "metadata": {},
   "outputs": [
    {
     "data": {
      "text/html": [
       "<pre style=\"white-space:pre;overflow-x:auto;line-height:normal;font-family:Menlo,'DejaVu Sans Mono',consolas,'Courier New',monospace\"><span style=\"font-weight: bold\">Model: \"sequential\"</span>\n",
       "</pre>\n"
      ],
      "text/plain": [
       "\u001b[1mModel: \"sequential\"\u001b[0m\n"
      ]
     },
     "metadata": {},
     "output_type": "display_data"
    },
    {
     "data": {
      "text/html": [
       "<pre style=\"white-space:pre;overflow-x:auto;line-height:normal;font-family:Menlo,'DejaVu Sans Mono',consolas,'Courier New',monospace\">┏━━━━━━━━━━━━━━━━━━━━━━━━━━━━━━━━━━━━━━┳━━━━━━━━━━━━━━━━━━━━━━━━━━━━━┳━━━━━━━━━━━━━━━━━┓\n",
       "┃<span style=\"font-weight: bold\"> Layer (type)                         </span>┃<span style=\"font-weight: bold\"> Output Shape                </span>┃<span style=\"font-weight: bold\">         Param # </span>┃\n",
       "┡━━━━━━━━━━━━━━━━━━━━━━━━━━━━━━━━━━━━━━╇━━━━━━━━━━━━━━━━━━━━━━━━━━━━━╇━━━━━━━━━━━━━━━━━┩\n",
       "│ lstm (<span style=\"color: #0087ff; text-decoration-color: #0087ff\">LSTM</span>)                          │ (<span style=\"color: #00d7ff; text-decoration-color: #00d7ff\">None</span>, <span style=\"color: #00af00; text-decoration-color: #00af00\">100</span>, <span style=\"color: #00af00; text-decoration-color: #00af00\">50</span>)             │          <span style=\"color: #00af00; text-decoration-color: #00af00\">10,400</span> │\n",
       "├──────────────────────────────────────┼─────────────────────────────┼─────────────────┤\n",
       "│ lstm_1 (<span style=\"color: #0087ff; text-decoration-color: #0087ff\">LSTM</span>)                        │ (<span style=\"color: #00d7ff; text-decoration-color: #00d7ff\">None</span>, <span style=\"color: #00af00; text-decoration-color: #00af00\">100</span>, <span style=\"color: #00af00; text-decoration-color: #00af00\">50</span>)             │          <span style=\"color: #00af00; text-decoration-color: #00af00\">20,200</span> │\n",
       "├──────────────────────────────────────┼─────────────────────────────┼─────────────────┤\n",
       "│ lstm_2 (<span style=\"color: #0087ff; text-decoration-color: #0087ff\">LSTM</span>)                        │ (<span style=\"color: #00d7ff; text-decoration-color: #00d7ff\">None</span>, <span style=\"color: #00af00; text-decoration-color: #00af00\">50</span>)                  │          <span style=\"color: #00af00; text-decoration-color: #00af00\">20,200</span> │\n",
       "├──────────────────────────────────────┼─────────────────────────────┼─────────────────┤\n",
       "│ dense (<span style=\"color: #0087ff; text-decoration-color: #0087ff\">Dense</span>)                        │ (<span style=\"color: #00d7ff; text-decoration-color: #00d7ff\">None</span>, <span style=\"color: #00af00; text-decoration-color: #00af00\">1</span>)                   │              <span style=\"color: #00af00; text-decoration-color: #00af00\">51</span> │\n",
       "└──────────────────────────────────────┴─────────────────────────────┴─────────────────┘\n",
       "</pre>\n"
      ],
      "text/plain": [
       "┏━━━━━━━━━━━━━━━━━━━━━━━━━━━━━━━━━━━━━━┳━━━━━━━━━━━━━━━━━━━━━━━━━━━━━┳━━━━━━━━━━━━━━━━━┓\n",
       "┃\u001b[1m \u001b[0m\u001b[1mLayer (type)                        \u001b[0m\u001b[1m \u001b[0m┃\u001b[1m \u001b[0m\u001b[1mOutput Shape               \u001b[0m\u001b[1m \u001b[0m┃\u001b[1m \u001b[0m\u001b[1m        Param #\u001b[0m\u001b[1m \u001b[0m┃\n",
       "┡━━━━━━━━━━━━━━━━━━━━━━━━━━━━━━━━━━━━━━╇━━━━━━━━━━━━━━━━━━━━━━━━━━━━━╇━━━━━━━━━━━━━━━━━┩\n",
       "│ lstm (\u001b[38;5;33mLSTM\u001b[0m)                          │ (\u001b[38;5;45mNone\u001b[0m, \u001b[38;5;34m100\u001b[0m, \u001b[38;5;34m50\u001b[0m)             │          \u001b[38;5;34m10,400\u001b[0m │\n",
       "├──────────────────────────────────────┼─────────────────────────────┼─────────────────┤\n",
       "│ lstm_1 (\u001b[38;5;33mLSTM\u001b[0m)                        │ (\u001b[38;5;45mNone\u001b[0m, \u001b[38;5;34m100\u001b[0m, \u001b[38;5;34m50\u001b[0m)             │          \u001b[38;5;34m20,200\u001b[0m │\n",
       "├──────────────────────────────────────┼─────────────────────────────┼─────────────────┤\n",
       "│ lstm_2 (\u001b[38;5;33mLSTM\u001b[0m)                        │ (\u001b[38;5;45mNone\u001b[0m, \u001b[38;5;34m50\u001b[0m)                  │          \u001b[38;5;34m20,200\u001b[0m │\n",
       "├──────────────────────────────────────┼─────────────────────────────┼─────────────────┤\n",
       "│ dense (\u001b[38;5;33mDense\u001b[0m)                        │ (\u001b[38;5;45mNone\u001b[0m, \u001b[38;5;34m1\u001b[0m)                   │              \u001b[38;5;34m51\u001b[0m │\n",
       "└──────────────────────────────────────┴─────────────────────────────┴─────────────────┘\n"
      ]
     },
     "metadata": {},
     "output_type": "display_data"
    },
    {
     "data": {
      "text/html": [
       "<pre style=\"white-space:pre;overflow-x:auto;line-height:normal;font-family:Menlo,'DejaVu Sans Mono',consolas,'Courier New',monospace\"><span style=\"font-weight: bold\"> Total params: </span><span style=\"color: #00af00; text-decoration-color: #00af00\">50,851</span> (198.64 KB)\n",
       "</pre>\n"
      ],
      "text/plain": [
       "\u001b[1m Total params: \u001b[0m\u001b[38;5;34m50,851\u001b[0m (198.64 KB)\n"
      ]
     },
     "metadata": {},
     "output_type": "display_data"
    },
    {
     "data": {
      "text/html": [
       "<pre style=\"white-space:pre;overflow-x:auto;line-height:normal;font-family:Menlo,'DejaVu Sans Mono',consolas,'Courier New',monospace\"><span style=\"font-weight: bold\"> Trainable params: </span><span style=\"color: #00af00; text-decoration-color: #00af00\">50,851</span> (198.64 KB)\n",
       "</pre>\n"
      ],
      "text/plain": [
       "\u001b[1m Trainable params: \u001b[0m\u001b[38;5;34m50,851\u001b[0m (198.64 KB)\n"
      ]
     },
     "metadata": {},
     "output_type": "display_data"
    },
    {
     "data": {
      "text/html": [
       "<pre style=\"white-space:pre;overflow-x:auto;line-height:normal;font-family:Menlo,'DejaVu Sans Mono',consolas,'Courier New',monospace\"><span style=\"font-weight: bold\"> Non-trainable params: </span><span style=\"color: #00af00; text-decoration-color: #00af00\">0</span> (0.00 B)\n",
       "</pre>\n"
      ],
      "text/plain": [
       "\u001b[1m Non-trainable params: \u001b[0m\u001b[38;5;34m0\u001b[0m (0.00 B)\n"
      ]
     },
     "metadata": {},
     "output_type": "display_data"
    }
   ],
   "source": [
    "model.summary()"
   ]
  },
  {
   "cell_type": "code",
   "execution_count": 43,
   "id": "f6279a66-2fb8-42d2-8bdb-ed33d7f8441d",
   "metadata": {},
   "outputs": [
    {
     "name": "stdout",
     "output_type": "stream",
     "text": [
      "Epoch 1/100\n",
      "\u001b[1m12/12\u001b[0m \u001b[32m━━━━━━━━━━━━━━━━━━━━\u001b[0m\u001b[37m\u001b[0m \u001b[1m9s\u001b[0m 224ms/step - loss: 0.0240 - val_loss: 0.0625\n",
      "Epoch 2/100\n",
      "\u001b[1m12/12\u001b[0m \u001b[32m━━━━━━━━━━━━━━━━━━━━\u001b[0m\u001b[37m\u001b[0m \u001b[1m2s\u001b[0m 131ms/step - loss: 0.0040 - val_loss: 0.0050\n",
      "Epoch 3/100\n",
      "\u001b[1m12/12\u001b[0m \u001b[32m━━━━━━━━━━━━━━━━━━━━\u001b[0m\u001b[37m\u001b[0m \u001b[1m2s\u001b[0m 132ms/step - loss: 9.3576e-04 - val_loss: 0.0044\n",
      "Epoch 4/100\n",
      "\u001b[1m12/12\u001b[0m \u001b[32m━━━━━━━━━━━━━━━━━━━━\u001b[0m\u001b[37m\u001b[0m \u001b[1m2s\u001b[0m 128ms/step - loss: 8.5886e-04 - val_loss: 0.0060\n",
      "Epoch 5/100\n",
      "\u001b[1m12/12\u001b[0m \u001b[32m━━━━━━━━━━━━━━━━━━━━\u001b[0m\u001b[37m\u001b[0m \u001b[1m2s\u001b[0m 128ms/step - loss: 6.2851e-04 - val_loss: 0.0067\n",
      "Epoch 6/100\n",
      "\u001b[1m12/12\u001b[0m \u001b[32m━━━━━━━━━━━━━━━━━━━━\u001b[0m\u001b[37m\u001b[0m \u001b[1m2s\u001b[0m 130ms/step - loss: 5.6356e-04 - val_loss: 0.0053\n",
      "Epoch 7/100\n",
      "\u001b[1m12/12\u001b[0m \u001b[32m━━━━━━━━━━━━━━━━━━━━\u001b[0m\u001b[37m\u001b[0m \u001b[1m2s\u001b[0m 128ms/step - loss: 5.6838e-04 - val_loss: 0.0053\n",
      "Epoch 8/100\n",
      "\u001b[1m12/12\u001b[0m \u001b[32m━━━━━━━━━━━━━━━━━━━━\u001b[0m\u001b[37m\u001b[0m \u001b[1m2s\u001b[0m 127ms/step - loss: 5.7355e-04 - val_loss: 0.0045\n",
      "Epoch 9/100\n",
      "\u001b[1m12/12\u001b[0m \u001b[32m━━━━━━━━━━━━━━━━━━━━\u001b[0m\u001b[37m\u001b[0m \u001b[1m2s\u001b[0m 125ms/step - loss: 5.5594e-04 - val_loss: 0.0037\n",
      "Epoch 10/100\n",
      "\u001b[1m12/12\u001b[0m \u001b[32m━━━━━━━━━━━━━━━━━━━━\u001b[0m\u001b[37m\u001b[0m \u001b[1m2s\u001b[0m 130ms/step - loss: 5.6474e-04 - val_loss: 0.0037\n",
      "Epoch 11/100\n",
      "\u001b[1m12/12\u001b[0m \u001b[32m━━━━━━━━━━━━━━━━━━━━\u001b[0m\u001b[37m\u001b[0m \u001b[1m2s\u001b[0m 132ms/step - loss: 5.8385e-04 - val_loss: 0.0038\n",
      "Epoch 12/100\n",
      "\u001b[1m12/12\u001b[0m \u001b[32m━━━━━━━━━━━━━━━━━━━━\u001b[0m\u001b[37m\u001b[0m \u001b[1m2s\u001b[0m 131ms/step - loss: 6.2294e-04 - val_loss: 0.0042\n",
      "Epoch 13/100\n",
      "\u001b[1m12/12\u001b[0m \u001b[32m━━━━━━━━━━━━━━━━━━━━\u001b[0m\u001b[37m\u001b[0m \u001b[1m2s\u001b[0m 132ms/step - loss: 5.1979e-04 - val_loss: 0.0042\n",
      "Epoch 14/100\n",
      "\u001b[1m12/12\u001b[0m \u001b[32m━━━━━━━━━━━━━━━━━━━━\u001b[0m\u001b[37m\u001b[0m \u001b[1m2s\u001b[0m 132ms/step - loss: 5.2598e-04 - val_loss: 0.0047\n",
      "Epoch 15/100\n",
      "\u001b[1m12/12\u001b[0m \u001b[32m━━━━━━━━━━━━━━━━━━━━\u001b[0m\u001b[37m\u001b[0m \u001b[1m2s\u001b[0m 134ms/step - loss: 5.5672e-04 - val_loss: 0.0048\n",
      "Epoch 16/100\n",
      "\u001b[1m12/12\u001b[0m \u001b[32m━━━━━━━━━━━━━━━━━━━━\u001b[0m\u001b[37m\u001b[0m \u001b[1m2s\u001b[0m 130ms/step - loss: 6.0921e-04 - val_loss: 0.0038\n",
      "Epoch 17/100\n",
      "\u001b[1m12/12\u001b[0m \u001b[32m━━━━━━━━━━━━━━━━━━━━\u001b[0m\u001b[37m\u001b[0m \u001b[1m2s\u001b[0m 132ms/step - loss: 6.1756e-04 - val_loss: 0.0029\n",
      "Epoch 18/100\n",
      "\u001b[1m12/12\u001b[0m \u001b[32m━━━━━━━━━━━━━━━━━━━━\u001b[0m\u001b[37m\u001b[0m \u001b[1m2s\u001b[0m 131ms/step - loss: 5.5960e-04 - val_loss: 0.0030\n",
      "Epoch 19/100\n",
      "\u001b[1m12/12\u001b[0m \u001b[32m━━━━━━━━━━━━━━━━━━━━\u001b[0m\u001b[37m\u001b[0m \u001b[1m2s\u001b[0m 131ms/step - loss: 4.6275e-04 - val_loss: 0.0031\n",
      "Epoch 20/100\n",
      "\u001b[1m12/12\u001b[0m \u001b[32m━━━━━━━━━━━━━━━━━━━━\u001b[0m\u001b[37m\u001b[0m \u001b[1m2s\u001b[0m 130ms/step - loss: 4.8562e-04 - val_loss: 0.0036\n",
      "Epoch 21/100\n",
      "\u001b[1m12/12\u001b[0m \u001b[32m━━━━━━━━━━━━━━━━━━━━\u001b[0m\u001b[37m\u001b[0m \u001b[1m2s\u001b[0m 127ms/step - loss: 5.0467e-04 - val_loss: 0.0028\n",
      "Epoch 22/100\n",
      "\u001b[1m12/12\u001b[0m \u001b[32m━━━━━━━━━━━━━━━━━━━━\u001b[0m\u001b[37m\u001b[0m \u001b[1m2s\u001b[0m 126ms/step - loss: 3.9952e-04 - val_loss: 0.0030\n",
      "Epoch 23/100\n",
      "\u001b[1m12/12\u001b[0m \u001b[32m━━━━━━━━━━━━━━━━━━━━\u001b[0m\u001b[37m\u001b[0m \u001b[1m1s\u001b[0m 121ms/step - loss: 4.2765e-04 - val_loss: 0.0035\n",
      "Epoch 24/100\n",
      "\u001b[1m12/12\u001b[0m \u001b[32m━━━━━━━━━━━━━━━━━━━━\u001b[0m\u001b[37m\u001b[0m \u001b[1m2s\u001b[0m 126ms/step - loss: 4.9750e-04 - val_loss: 0.0024\n",
      "Epoch 25/100\n",
      "\u001b[1m12/12\u001b[0m \u001b[32m━━━━━━━━━━━━━━━━━━━━\u001b[0m\u001b[37m\u001b[0m \u001b[1m2s\u001b[0m 128ms/step - loss: 4.4471e-04 - val_loss: 0.0028\n",
      "Epoch 26/100\n",
      "\u001b[1m12/12\u001b[0m \u001b[32m━━━━━━━━━━━━━━━━━━━━\u001b[0m\u001b[37m\u001b[0m \u001b[1m2s\u001b[0m 123ms/step - loss: 3.5320e-04 - val_loss: 0.0021\n",
      "Epoch 27/100\n",
      "\u001b[1m12/12\u001b[0m \u001b[32m━━━━━━━━━━━━━━━━━━━━\u001b[0m\u001b[37m\u001b[0m \u001b[1m2s\u001b[0m 126ms/step - loss: 3.9993e-04 - val_loss: 0.0020\n",
      "Epoch 28/100\n",
      "\u001b[1m12/12\u001b[0m \u001b[32m━━━━━━━━━━━━━━━━━━━━\u001b[0m\u001b[37m\u001b[0m \u001b[1m2s\u001b[0m 127ms/step - loss: 3.7975e-04 - val_loss: 0.0031\n",
      "Epoch 29/100\n",
      "\u001b[1m12/12\u001b[0m \u001b[32m━━━━━━━━━━━━━━━━━━━━\u001b[0m\u001b[37m\u001b[0m \u001b[1m2s\u001b[0m 128ms/step - loss: 4.8791e-04 - val_loss: 0.0018\n",
      "Epoch 30/100\n",
      "\u001b[1m12/12\u001b[0m \u001b[32m━━━━━━━━━━━━━━━━━━━━\u001b[0m\u001b[37m\u001b[0m \u001b[1m2s\u001b[0m 127ms/step - loss: 4.2382e-04 - val_loss: 0.0025\n",
      "Epoch 31/100\n",
      "\u001b[1m12/12\u001b[0m \u001b[32m━━━━━━━━━━━━━━━━━━━━\u001b[0m\u001b[37m\u001b[0m \u001b[1m2s\u001b[0m 133ms/step - loss: 4.2885e-04 - val_loss: 0.0019\n",
      "Epoch 32/100\n",
      "\u001b[1m12/12\u001b[0m \u001b[32m━━━━━━━━━━━━━━━━━━━━\u001b[0m\u001b[37m\u001b[0m \u001b[1m2s\u001b[0m 131ms/step - loss: 3.7348e-04 - val_loss: 0.0017\n",
      "Epoch 33/100\n",
      "\u001b[1m12/12\u001b[0m \u001b[32m━━━━━━━━━━━━━━━━━━━━\u001b[0m\u001b[37m\u001b[0m \u001b[1m2s\u001b[0m 132ms/step - loss: 3.5466e-04 - val_loss: 0.0019\n",
      "Epoch 34/100\n",
      "\u001b[1m12/12\u001b[0m \u001b[32m━━━━━━━━━━━━━━━━━━━━\u001b[0m\u001b[37m\u001b[0m \u001b[1m2s\u001b[0m 133ms/step - loss: 3.4532e-04 - val_loss: 0.0015\n",
      "Epoch 35/100\n",
      "\u001b[1m12/12\u001b[0m \u001b[32m━━━━━━━━━━━━━━━━━━━━\u001b[0m\u001b[37m\u001b[0m \u001b[1m2s\u001b[0m 131ms/step - loss: 3.5868e-04 - val_loss: 0.0015\n",
      "Epoch 36/100\n",
      "\u001b[1m12/12\u001b[0m \u001b[32m━━━━━━━━━━━━━━━━━━━━\u001b[0m\u001b[37m\u001b[0m \u001b[1m2s\u001b[0m 134ms/step - loss: 3.4714e-04 - val_loss: 0.0020\n",
      "Epoch 37/100\n",
      "\u001b[1m12/12\u001b[0m \u001b[32m━━━━━━━━━━━━━━━━━━━━\u001b[0m\u001b[37m\u001b[0m \u001b[1m2s\u001b[0m 131ms/step - loss: 3.6318e-04 - val_loss: 0.0014\n",
      "Epoch 38/100\n",
      "\u001b[1m12/12\u001b[0m \u001b[32m━━━━━━━━━━━━━━━━━━━━\u001b[0m\u001b[37m\u001b[0m \u001b[1m2s\u001b[0m 134ms/step - loss: 2.9488e-04 - val_loss: 0.0014\n",
      "Epoch 39/100\n",
      "\u001b[1m12/12\u001b[0m \u001b[32m━━━━━━━━━━━━━━━━━━━━\u001b[0m\u001b[37m\u001b[0m \u001b[1m2s\u001b[0m 132ms/step - loss: 3.2427e-04 - val_loss: 0.0015\n",
      "Epoch 40/100\n",
      "\u001b[1m12/12\u001b[0m \u001b[32m━━━━━━━━━━━━━━━━━━━━\u001b[0m\u001b[37m\u001b[0m \u001b[1m2s\u001b[0m 126ms/step - loss: 2.8401e-04 - val_loss: 0.0015\n",
      "Epoch 41/100\n",
      "\u001b[1m12/12\u001b[0m \u001b[32m━━━━━━━━━━━━━━━━━━━━\u001b[0m\u001b[37m\u001b[0m \u001b[1m2s\u001b[0m 127ms/step - loss: 2.8738e-04 - val_loss: 0.0018\n",
      "Epoch 42/100\n",
      "\u001b[1m12/12\u001b[0m \u001b[32m━━━━━━━━━━━━━━━━━━━━\u001b[0m\u001b[37m\u001b[0m \u001b[1m2s\u001b[0m 124ms/step - loss: 3.3578e-04 - val_loss: 0.0014\n",
      "Epoch 43/100\n",
      "\u001b[1m12/12\u001b[0m \u001b[32m━━━━━━━━━━━━━━━━━━━━\u001b[0m\u001b[37m\u001b[0m \u001b[1m2s\u001b[0m 125ms/step - loss: 2.7360e-04 - val_loss: 0.0018\n",
      "Epoch 44/100\n",
      "\u001b[1m12/12\u001b[0m \u001b[32m━━━━━━━━━━━━━━━━━━━━\u001b[0m\u001b[37m\u001b[0m \u001b[1m2s\u001b[0m 124ms/step - loss: 3.1089e-04 - val_loss: 0.0015\n",
      "Epoch 45/100\n",
      "\u001b[1m12/12\u001b[0m \u001b[32m━━━━━━━━━━━━━━━━━━━━\u001b[0m\u001b[37m\u001b[0m \u001b[1m2s\u001b[0m 126ms/step - loss: 2.6489e-04 - val_loss: 0.0013\n",
      "Epoch 46/100\n",
      "\u001b[1m12/12\u001b[0m \u001b[32m━━━━━━━━━━━━━━━━━━━━\u001b[0m\u001b[37m\u001b[0m \u001b[1m2s\u001b[0m 125ms/step - loss: 2.5482e-04 - val_loss: 0.0017\n",
      "Epoch 47/100\n",
      "\u001b[1m12/12\u001b[0m \u001b[32m━━━━━━━━━━━━━━━━━━━━\u001b[0m\u001b[37m\u001b[0m \u001b[1m1s\u001b[0m 124ms/step - loss: 2.5961e-04 - val_loss: 0.0017\n",
      "Epoch 48/100\n",
      "\u001b[1m12/12\u001b[0m \u001b[32m━━━━━━━━━━━━━━━━━━━━\u001b[0m\u001b[37m\u001b[0m \u001b[1m2s\u001b[0m 126ms/step - loss: 2.7141e-04 - val_loss: 0.0015\n",
      "Epoch 49/100\n",
      "\u001b[1m12/12\u001b[0m \u001b[32m━━━━━━━━━━━━━━━━━━━━\u001b[0m\u001b[37m\u001b[0m \u001b[1m1s\u001b[0m 122ms/step - loss: 2.4005e-04 - val_loss: 0.0019\n",
      "Epoch 50/100\n",
      "\u001b[1m12/12\u001b[0m \u001b[32m━━━━━━━━━━━━━━━━━━━━\u001b[0m\u001b[37m\u001b[0m \u001b[1m2s\u001b[0m 128ms/step - loss: 2.4768e-04 - val_loss: 0.0013\n",
      "Epoch 51/100\n",
      "\u001b[1m12/12\u001b[0m \u001b[32m━━━━━━━━━━━━━━━━━━━━\u001b[0m\u001b[37m\u001b[0m \u001b[1m2s\u001b[0m 130ms/step - loss: 2.4247e-04 - val_loss: 0.0014\n",
      "Epoch 52/100\n",
      "\u001b[1m12/12\u001b[0m \u001b[32m━━━━━━━━━━━━━━━━━━━━\u001b[0m\u001b[37m\u001b[0m \u001b[1m2s\u001b[0m 131ms/step - loss: 2.2124e-04 - val_loss: 0.0012\n",
      "Epoch 53/100\n",
      "\u001b[1m12/12\u001b[0m \u001b[32m━━━━━━━━━━━━━━━━━━━━\u001b[0m\u001b[37m\u001b[0m \u001b[1m2s\u001b[0m 130ms/step - loss: 2.4544e-04 - val_loss: 0.0018\n",
      "Epoch 54/100\n",
      "\u001b[1m12/12\u001b[0m \u001b[32m━━━━━━━━━━━━━━━━━━━━\u001b[0m\u001b[37m\u001b[0m \u001b[1m2s\u001b[0m 130ms/step - loss: 2.3970e-04 - val_loss: 0.0013\n",
      "Epoch 55/100\n",
      "\u001b[1m12/12\u001b[0m \u001b[32m━━━━━━━━━━━━━━━━━━━━\u001b[0m\u001b[37m\u001b[0m \u001b[1m2s\u001b[0m 129ms/step - loss: 2.4184e-04 - val_loss: 0.0024\n",
      "Epoch 56/100\n",
      "\u001b[1m12/12\u001b[0m \u001b[32m━━━━━━━━━━━━━━━━━━━━\u001b[0m\u001b[37m\u001b[0m \u001b[1m2s\u001b[0m 131ms/step - loss: 2.6990e-04 - val_loss: 0.0013\n",
      "Epoch 57/100\n",
      "\u001b[1m12/12\u001b[0m \u001b[32m━━━━━━━━━━━━━━━━━━━━\u001b[0m\u001b[37m\u001b[0m \u001b[1m2s\u001b[0m 130ms/step - loss: 2.2156e-04 - val_loss: 0.0016\n",
      "Epoch 58/100\n",
      "\u001b[1m12/12\u001b[0m \u001b[32m━━━━━━━━━━━━━━━━━━━━\u001b[0m\u001b[37m\u001b[0m \u001b[1m2s\u001b[0m 129ms/step - loss: 2.0169e-04 - val_loss: 0.0016\n",
      "Epoch 59/100\n",
      "\u001b[1m12/12\u001b[0m \u001b[32m━━━━━━━━━━━━━━━━━━━━\u001b[0m\u001b[37m\u001b[0m \u001b[1m2s\u001b[0m 129ms/step - loss: 2.1160e-04 - val_loss: 0.0015\n",
      "Epoch 60/100\n",
      "\u001b[1m12/12\u001b[0m \u001b[32m━━━━━━━━━━━━━━━━━━━━\u001b[0m\u001b[37m\u001b[0m \u001b[1m2s\u001b[0m 124ms/step - loss: 1.7099e-04 - val_loss: 0.0018\n",
      "Epoch 61/100\n",
      "\u001b[1m12/12\u001b[0m \u001b[32m━━━━━━━━━━━━━━━━━━━━\u001b[0m\u001b[37m\u001b[0m \u001b[1m2s\u001b[0m 126ms/step - loss: 1.8373e-04 - val_loss: 0.0011\n",
      "Epoch 62/100\n",
      "\u001b[1m12/12\u001b[0m \u001b[32m━━━━━━━━━━━━━━━━━━━━\u001b[0m\u001b[37m\u001b[0m \u001b[1m2s\u001b[0m 126ms/step - loss: 1.9925e-04 - val_loss: 0.0011\n",
      "Epoch 63/100\n",
      "\u001b[1m12/12\u001b[0m \u001b[32m━━━━━━━━━━━━━━━━━━━━\u001b[0m\u001b[37m\u001b[0m \u001b[1m2s\u001b[0m 125ms/step - loss: 1.8292e-04 - val_loss: 0.0013\n",
      "Epoch 64/100\n",
      "\u001b[1m12/12\u001b[0m \u001b[32m━━━━━━━━━━━━━━━━━━━━\u001b[0m\u001b[37m\u001b[0m \u001b[1m2s\u001b[0m 125ms/step - loss: 1.8711e-04 - val_loss: 0.0011\n",
      "Epoch 65/100\n",
      "\u001b[1m12/12\u001b[0m \u001b[32m━━━━━━━━━━━━━━━━━━━━\u001b[0m\u001b[37m\u001b[0m \u001b[1m2s\u001b[0m 129ms/step - loss: 1.6119e-04 - val_loss: 9.7532e-04\n",
      "Epoch 66/100\n",
      "\u001b[1m12/12\u001b[0m \u001b[32m━━━━━━━━━━━━━━━━━━━━\u001b[0m\u001b[37m\u001b[0m \u001b[1m2s\u001b[0m 127ms/step - loss: 1.7634e-04 - val_loss: 0.0013\n",
      "Epoch 67/100\n",
      "\u001b[1m12/12\u001b[0m \u001b[32m━━━━━━━━━━━━━━━━━━━━\u001b[0m\u001b[37m\u001b[0m \u001b[1m2s\u001b[0m 125ms/step - loss: 1.6029e-04 - val_loss: 0.0010\n",
      "Epoch 68/100\n",
      "\u001b[1m12/12\u001b[0m \u001b[32m━━━━━━━━━━━━━━━━━━━━\u001b[0m\u001b[37m\u001b[0m \u001b[1m1s\u001b[0m 123ms/step - loss: 1.6245e-04 - val_loss: 0.0011\n",
      "Epoch 69/100\n",
      "\u001b[1m12/12\u001b[0m \u001b[32m━━━━━━━━━━━━━━━━━━━━\u001b[0m\u001b[37m\u001b[0m \u001b[1m2s\u001b[0m 130ms/step - loss: 1.7135e-04 - val_loss: 9.7515e-04\n",
      "Epoch 70/100\n",
      "\u001b[1m12/12\u001b[0m \u001b[32m━━━━━━━━━━━━━━━━━━━━\u001b[0m\u001b[37m\u001b[0m \u001b[1m2s\u001b[0m 131ms/step - loss: 1.8852e-04 - val_loss: 9.4802e-04\n",
      "Epoch 71/100\n",
      "\u001b[1m12/12\u001b[0m \u001b[32m━━━━━━━━━━━━━━━━━━━━\u001b[0m\u001b[37m\u001b[0m \u001b[1m2s\u001b[0m 130ms/step - loss: 1.7584e-04 - val_loss: 0.0012\n",
      "Epoch 72/100\n",
      "\u001b[1m12/12\u001b[0m \u001b[32m━━━━━━━━━━━━━━━━━━━━\u001b[0m\u001b[37m\u001b[0m \u001b[1m2s\u001b[0m 129ms/step - loss: 1.4894e-04 - val_loss: 8.9498e-04\n",
      "Epoch 73/100\n",
      "\u001b[1m12/12\u001b[0m \u001b[32m━━━━━━━━━━━━━━━━━━━━\u001b[0m\u001b[37m\u001b[0m \u001b[1m2s\u001b[0m 127ms/step - loss: 1.7135e-04 - val_loss: 9.3591e-04\n",
      "Epoch 74/100\n",
      "\u001b[1m12/12\u001b[0m \u001b[32m━━━━━━━━━━━━━━━━━━━━\u001b[0m\u001b[37m\u001b[0m \u001b[1m2s\u001b[0m 127ms/step - loss: 1.4448e-04 - val_loss: 0.0010\n",
      "Epoch 75/100\n",
      "\u001b[1m12/12\u001b[0m \u001b[32m━━━━━━━━━━━━━━━━━━━━\u001b[0m\u001b[37m\u001b[0m \u001b[1m2s\u001b[0m 126ms/step - loss: 1.2595e-04 - val_loss: 9.4932e-04\n",
      "Epoch 76/100\n",
      "\u001b[1m12/12\u001b[0m \u001b[32m━━━━━━━━━━━━━━━━━━━━\u001b[0m\u001b[37m\u001b[0m \u001b[1m2s\u001b[0m 129ms/step - loss: 1.4635e-04 - val_loss: 0.0014\n",
      "Epoch 77/100\n",
      "\u001b[1m12/12\u001b[0m \u001b[32m━━━━━━━━━━━━━━━━━━━━\u001b[0m\u001b[37m\u001b[0m \u001b[1m2s\u001b[0m 128ms/step - loss: 1.9161e-04 - val_loss: 0.0011\n",
      "Epoch 78/100\n",
      "\u001b[1m12/12\u001b[0m \u001b[32m━━━━━━━━━━━━━━━━━━━━\u001b[0m\u001b[37m\u001b[0m \u001b[1m2s\u001b[0m 130ms/step - loss: 1.3997e-04 - val_loss: 8.4178e-04\n",
      "Epoch 79/100\n",
      "\u001b[1m12/12\u001b[0m \u001b[32m━━━━━━━━━━━━━━━━━━━━\u001b[0m\u001b[37m\u001b[0m \u001b[1m2s\u001b[0m 124ms/step - loss: 1.2160e-04 - val_loss: 9.1474e-04\n",
      "Epoch 80/100\n",
      "\u001b[1m12/12\u001b[0m \u001b[32m━━━━━━━━━━━━━━━━━━━━\u001b[0m\u001b[37m\u001b[0m \u001b[1m1s\u001b[0m 125ms/step - loss: 1.3002e-04 - val_loss: 8.2090e-04\n",
      "Epoch 81/100\n",
      "\u001b[1m12/12\u001b[0m \u001b[32m━━━━━━━━━━━━━━━━━━━━\u001b[0m\u001b[37m\u001b[0m \u001b[1m1s\u001b[0m 124ms/step - loss: 1.1422e-04 - val_loss: 7.4814e-04\n",
      "Epoch 82/100\n",
      "\u001b[1m12/12\u001b[0m \u001b[32m━━━━━━━━━━━━━━━━━━━━\u001b[0m\u001b[37m\u001b[0m \u001b[1m2s\u001b[0m 125ms/step - loss: 1.1159e-04 - val_loss: 7.6570e-04\n",
      "Epoch 83/100\n",
      "\u001b[1m12/12\u001b[0m \u001b[32m━━━━━━━━━━━━━━━━━━━━\u001b[0m\u001b[37m\u001b[0m \u001b[1m2s\u001b[0m 125ms/step - loss: 1.3120e-04 - val_loss: 9.3743e-04\n",
      "Epoch 84/100\n",
      "\u001b[1m12/12\u001b[0m \u001b[32m━━━━━━━━━━━━━━━━━━━━\u001b[0m\u001b[37m\u001b[0m \u001b[1m2s\u001b[0m 124ms/step - loss: 1.2589e-04 - val_loss: 7.5641e-04\n",
      "Epoch 85/100\n",
      "\u001b[1m12/12\u001b[0m \u001b[32m━━━━━━━━━━━━━━━━━━━━\u001b[0m\u001b[37m\u001b[0m \u001b[1m1s\u001b[0m 121ms/step - loss: 1.4465e-04 - val_loss: 0.0011\n",
      "Epoch 86/100\n",
      "\u001b[1m12/12\u001b[0m \u001b[32m━━━━━━━━━━━━━━━━━━━━\u001b[0m\u001b[37m\u001b[0m \u001b[1m1s\u001b[0m 123ms/step - loss: 1.4430e-04 - val_loss: 7.8997e-04\n",
      "Epoch 87/100\n",
      "\u001b[1m12/12\u001b[0m \u001b[32m━━━━━━━━━━━━━━━━━━━━\u001b[0m\u001b[37m\u001b[0m \u001b[1m1s\u001b[0m 124ms/step - loss: 1.2035e-04 - val_loss: 7.1109e-04\n",
      "Epoch 88/100\n",
      "\u001b[1m12/12\u001b[0m \u001b[32m━━━━━━━━━━━━━━━━━━━━\u001b[0m\u001b[37m\u001b[0m \u001b[1m2s\u001b[0m 129ms/step - loss: 9.3692e-05 - val_loss: 8.5791e-04\n",
      "Epoch 89/100\n",
      "\u001b[1m12/12\u001b[0m \u001b[32m━━━━━━━━━━━━━━━━━━━━\u001b[0m\u001b[37m\u001b[0m \u001b[1m2s\u001b[0m 133ms/step - loss: 1.2735e-04 - val_loss: 0.0011\n",
      "Epoch 90/100\n",
      "\u001b[1m12/12\u001b[0m \u001b[32m━━━━━━━━━━━━━━━━━━━━\u001b[0m\u001b[37m\u001b[0m \u001b[1m2s\u001b[0m 134ms/step - loss: 1.4391e-04 - val_loss: 7.9970e-04\n",
      "Epoch 91/100\n",
      "\u001b[1m12/12\u001b[0m \u001b[32m━━━━━━━━━━━━━━━━━━━━\u001b[0m\u001b[37m\u001b[0m \u001b[1m2s\u001b[0m 130ms/step - loss: 1.1377e-04 - val_loss: 7.4205e-04\n",
      "Epoch 92/100\n",
      "\u001b[1m12/12\u001b[0m \u001b[32m━━━━━━━━━━━━━━━━━━━━\u001b[0m\u001b[37m\u001b[0m \u001b[1m2s\u001b[0m 131ms/step - loss: 1.0926e-04 - val_loss: 7.4149e-04\n",
      "Epoch 93/100\n",
      "\u001b[1m12/12\u001b[0m \u001b[32m━━━━━━━━━━━━━━━━━━━━\u001b[0m\u001b[37m\u001b[0m \u001b[1m2s\u001b[0m 128ms/step - loss: 9.8494e-05 - val_loss: 6.9821e-04\n",
      "Epoch 94/100\n",
      "\u001b[1m12/12\u001b[0m \u001b[32m━━━━━━━━━━━━━━━━━━━━\u001b[0m\u001b[37m\u001b[0m \u001b[1m2s\u001b[0m 127ms/step - loss: 9.7489e-05 - val_loss: 7.1867e-04\n",
      "Epoch 95/100\n",
      "\u001b[1m12/12\u001b[0m \u001b[32m━━━━━━━━━━━━━━━━━━━━\u001b[0m\u001b[37m\u001b[0m \u001b[1m2s\u001b[0m 130ms/step - loss: 1.0906e-04 - val_loss: 7.5429e-04\n",
      "Epoch 96/100\n",
      "\u001b[1m12/12\u001b[0m \u001b[32m━━━━━━━━━━━━━━━━━━━━\u001b[0m\u001b[37m\u001b[0m \u001b[1m2s\u001b[0m 130ms/step - loss: 9.5584e-05 - val_loss: 7.6525e-04\n",
      "Epoch 97/100\n",
      "\u001b[1m12/12\u001b[0m \u001b[32m━━━━━━━━━━━━━━━━━━━━\u001b[0m\u001b[37m\u001b[0m \u001b[1m2s\u001b[0m 130ms/step - loss: 9.3080e-05 - val_loss: 7.4113e-04\n",
      "Epoch 98/100\n",
      "\u001b[1m12/12\u001b[0m \u001b[32m━━━━━━━━━━━━━━━━━━━━\u001b[0m\u001b[37m\u001b[0m \u001b[1m2s\u001b[0m 133ms/step - loss: 9.3769e-05 - val_loss: 7.3205e-04\n",
      "Epoch 99/100\n",
      "\u001b[1m12/12\u001b[0m \u001b[32m━━━━━━━━━━━━━━━━━━━━\u001b[0m\u001b[37m\u001b[0m \u001b[1m2s\u001b[0m 129ms/step - loss: 9.7779e-05 - val_loss: 7.3425e-04\n",
      "Epoch 100/100\n",
      "\u001b[1m12/12\u001b[0m \u001b[32m━━━━━━━━━━━━━━━━━━━━\u001b[0m\u001b[37m\u001b[0m \u001b[1m2s\u001b[0m 130ms/step - loss: 9.7315e-05 - val_loss: 8.0816e-04\n"
     ]
    },
    {
     "data": {
      "text/plain": [
       "<keras.src.callbacks.history.History at 0x275de0da420>"
      ]
     },
     "execution_count": 43,
     "metadata": {},
     "output_type": "execute_result"
    }
   ],
   "source": [
    "model.fit(x_train, y_train , validation_data = (x_test,y_test),epochs = 100, batch_size = 64,verbose=1)"
   ]
  },
  {
   "cell_type": "code",
   "execution_count": 63,
   "id": "ad1bacaa-cbd8-47c4-bf82-6ee06a8c41ec",
   "metadata": {},
   "outputs": [],
   "source": [
    "import tensorflow as tf"
   ]
  },
  {
   "cell_type": "code",
   "execution_count": 64,
   "id": "1c0d11d9-66e0-4625-8a74-20236c4e7338",
   "metadata": {},
   "outputs": [
    {
     "name": "stdout",
     "output_type": "stream",
     "text": [
      "\u001b[1m23/23\u001b[0m \u001b[32m━━━━━━━━━━━━━━━━━━━━\u001b[0m\u001b[37m\u001b[0m \u001b[1m1s\u001b[0m 34ms/step\n",
      "\u001b[1m11/11\u001b[0m \u001b[32m━━━━━━━━━━━━━━━━━━━━\u001b[0m\u001b[37m\u001b[0m \u001b[1m0s\u001b[0m 35ms/step\n"
     ]
    }
   ],
   "source": [
    "# Lets do the prediction and check performance metrics\n",
    "train_predict = model.predict(x_train)\n",
    "test_predict = model.predict(x_test)"
   ]
  },
  {
   "cell_type": "code",
   "execution_count": 65,
   "id": "ecb2178a-f924-4982-acb8-b73bd61df7d5",
   "metadata": {},
   "outputs": [],
   "source": [
    "# transformback to original form\n",
    "train_predict = scaler.inverse_transform(train_predict)\n",
    "test_predict = scaler.inverse_transform(test_predict)"
   ]
  },
  {
   "cell_type": "code",
   "execution_count": 66,
   "id": "35f2c45b-041e-4090-977e-ec4f2d526340",
   "metadata": {},
   "outputs": [
    {
     "data": {
      "text/plain": [
       "33.05609885177851"
      ]
     },
     "execution_count": 66,
     "metadata": {},
     "output_type": "execute_result"
    }
   ],
   "source": [
    "#Calculate RMSE performance metrics\n",
    "import math\n",
    "from sklearn.metrics import mean_squared_error\n",
    "math.sqrt(mean_squared_error(y_train, train_predict))"
   ]
  },
  {
   "cell_type": "code",
   "execution_count": 67,
   "id": "b7e24503-800d-4190-98c2-aace04ce93e4",
   "metadata": {},
   "outputs": [
    {
     "data": {
      "text/plain": [
       "57.40725326017649"
      ]
     },
     "execution_count": 67,
     "metadata": {},
     "output_type": "execute_result"
    }
   ],
   "source": [
    "# test data RMSE\n",
    "math.sqrt(mean_squared_error(y_test,test_predict))"
   ]
  },
  {
   "cell_type": "code",
   "execution_count": 68,
   "id": "774710f4-8dc8-4447-8162-b4a39a763a2f",
   "metadata": {},
   "outputs": [],
   "source": [
    "df1 = np.array(df1).reshape(-1, 1)"
   ]
  },
  {
   "cell_type": "code",
   "execution_count": 69,
   "id": "9f32f049-c088-4b2f-80cb-4aa834146420",
   "metadata": {},
   "outputs": [
    {
     "data": {
      "image/png": "[encoded data removed]",
      "text/plain": [
       "<Figure size 640x480 with 1 Axes>"
      ]
     },
     "metadata": {},
     "output_type": "display_data"
    }
   ],
   "source": [
    "# ploting \n",
    "#shift train predictions for plotting\n",
    "look_back =100\n",
    "trainPredictPlot = numpy.empty_like(df1)\n",
    "trainPredictPlot[:, :]=np.nan\n",
    "trainPredictPlot[look_back : len(train_predict)+look_back, :] = train_predict\n",
    "\n",
    "#shift test predictions for plotting\n",
    "testPredictPlot = numpy.empty_like(df1)\n",
    "testPredictPlot[...] = np.nan\n",
    "testPredictPlot[len(train_predict)+(look_back*2)+1:len(df1)-1, :] = test_predict\n",
    "\n",
    "#plot baseline and predictions\n",
    "plt.plot(scaler.inverse_transform(df1))\n",
    "plt.plot(trainPredictPlot)\n",
    "plt.plot(testPredictPlot)\n",
    "plt.show()\n"
   ]
  },
  {
   "cell_type": "code",
   "execution_count": 70,
   "id": "56d8852c-a884-4151-acdc-b087f5c6c2a6",
   "metadata": {},
   "outputs": [
    {
     "data": {
      "text/plain": [
       "440"
      ]
     },
     "execution_count": 70,
     "metadata": {},
     "output_type": "execute_result"
    }
   ],
   "source": [
    "len(test_data)"
   ]
  },
  {
   "cell_type": "code",
   "execution_count": 71,
   "id": "1221c205-14a2-4488-87c2-8e59a77a5797",
   "metadata": {},
   "outputs": [
    {
     "data": {
      "text/plain": [
       "(1, 99)"
      ]
     },
     "execution_count": 71,
     "metadata": {},
     "output_type": "execute_result"
    }
   ],
   "source": [
    "x_input = test_data[341:].reshape(1,-1)\n",
    "x_input.shape"
   ]
  },
  {
   "cell_type": "code",
   "execution_count": 73,
   "id": "55edc14b-6a28-4a64-9290-71602782c209",
   "metadata": {},
   "outputs": [],
   "source": [
    "temp_input= list(x_input)\n",
    "temp_input = temp_input[0].tolist()"
   ]
  },
  {
   "cell_type": "code",
   "execution_count": 74,
   "id": "0855f81b-91ed-4cf5-9b7b-1947e2472c5f",
   "metadata": {},
   "outputs": [
    {
     "data": {
      "text/plain": [
       "[0.8584946165087013,\n",
       " 0.8861141445125564,\n",
       " 0.8740768675867994,\n",
       " 0.8838465213372082,\n",
       " 0.8780341841624673,\n",
       " 0.897821547499652,\n",
       " 0.9243693754322806,\n",
       " 0.9272544716308249,\n",
       " 0.9545857501677741,\n",
       " 0.9369421772024653,\n",
       " 0.931418349647579,\n",
       " 0.9474952815571949,\n",
       " 0.9618825200664911,\n",
       " 0.9529783951756456,\n",
       " 0.9576364337180203,\n",
       " 0.9639435818007533,\n",
       " 0.9601512021944161,\n",
       " 0.9215657071066077,\n",
       " 0.9575954596286362,\n",
       " 0.9850086863443537,\n",
       " 0.9830709371076669,\n",
       " 0.9238745645242887,\n",
       " 0.9203704343848573,\n",
       " 0.9623770708215347,\n",
       " 0.9730952422220691,\n",
       " 0.9885948947390277,\n",
       " 0.9703724814633707,\n",
       " 0.9766532240218337,\n",
       " 0.9686368710676458,\n",
       " 1.0,\n",
       " 0.9903717393770852,\n",
       " 0.9907023937745918,\n",
       " 0.9661163792263838,\n",
       " 0.9852064025851919,\n",
       " 0.9714880173064147,\n",
       " 0.9415302346017014,\n",
       " 0.880086140543533,\n",
       " 0.8383514940144823,\n",
       " 0.8572354762381011,\n",
       " 0.7781878727686884,\n",
       " 0.7775269542030976,\n",
       " 0.8826893610224089,\n",
       " 0.8434752063346203,\n",
       " 0.8989282381424482,\n",
       " 0.8583511421576193,\n",
       " 0.8422768117774881,\n",
       " 0.7478169671818031,\n",
       " 0.8270293775440722,\n",
       " 0.7860805229958783,\n",
       " 0.6736868397826279,\n",
       " 0.7965760034725216,\n",
       " 0.6488117302704313,\n",
       " 0.6928185526514283,\n",
       " 0.6672410301783598,\n",
       " 0.6594312386652579,\n",
       " 0.5952184018147488,\n",
       " 0.5750947907916653,\n",
       " 0.6681086402615108,\n",
       " 0.6624891414598242,\n",
       " 0.7158758434361834,\n",
       " 0.6716623945758631,\n",
       " 0.7008762699244233,\n",
       " 0.6987276016847634,\n",
       " 0.6434398970756889,\n",
       " 0.6600509229885161,\n",
       " 0.6455060317924463,\n",
       " 0.7325280385531059,\n",
       " 0.7199666184744169,\n",
       " 0.7474039743761052,\n",
       " 0.7553374686162051,\n",
       " 0.7770723369256445,\n",
       " 0.8340955218539696,\n",
       " 0.8232692569033455,\n",
       " 0.8326079672946118,\n",
       " 0.8165341572203775,\n",
       " 0.7922782767637793,\n",
       " 0.7569074916602281,\n",
       " 0.7888488105205591,\n",
       " 0.7844277713142416,\n",
       " 0.8172363100283011,\n",
       " 0.8180629460220679,\n",
       " 0.7990966253902578,\n",
       " 0.8369053037739314,\n",
       " 0.8619872999183997,\n",
       " 0.8424426592821384,\n",
       " 0.8593427151207169,\n",
       " 0.8775238941540413,\n",
       " 0.8902093421509139,\n",
       " 0.9030602474230143,\n",
       " 0.9329334804194744,\n",
       " 0.9531526976511213,\n",
       " 0.938236958427006,\n",
       " 0.9226583494901863,\n",
       " 0.930488953239166,\n",
       " 0.922906665479502,\n",
       " 0.952945485827664,\n",
       " 0.9454049526162296,\n",
       " 0.9706378374708111,\n",
       " 0.9607762196531178]"
      ]
     },
     "execution_count": 74,
     "metadata": {},
     "output_type": "execute_result"
    }
   ],
   "source": [
    "temp_input"
   ]
  },
  {
   "cell_type": "code",
   "execution_count": 82,
   "id": "07df4bab-526b-448c-b153-98959d02b479",
   "metadata": {},
   "outputs": [
    {
     "name": "stdout",
     "output_type": "stream",
     "text": [
      "0 day input [0.88611414 0.87407687 0.88384652 0.87803418 0.89782155 0.92436938\n",
      " 0.92725447 0.95458575 0.93694218 0.93141835 0.94749528 0.96188252\n",
      " 0.9529784  0.95763643 0.96394358 0.9601512  0.92156571 0.95759546\n",
      " 0.98500869 0.98307094 0.92387456 0.92037043 0.96237707 0.97309524\n",
      " 0.98859489 0.97037248 0.97665322 0.96863687 1.         0.99037174\n",
      " 0.99070239 0.96611638 0.9852064  0.97148802 0.94153023 0.88008614\n",
      " 0.83835149 0.85723548 0.77818787 0.77752695 0.88268936 0.84347521\n",
      " 0.89892824 0.85835114 0.84227681 0.74781697 0.82702938 0.78608052\n",
      " 0.67368684 0.796576   0.64881173 0.69281855 0.66724103 0.65943124\n",
      " 0.5952184  0.57509479 0.66810864 0.66248914 0.71587584 0.67166239\n",
      " 0.70087627 0.6987276  0.6434399  0.66005092 0.64550603 0.73252804\n",
      " 0.71996662 0.74740397 0.75533747 0.77707234 0.83409552 0.82326926\n",
      " 0.83260797 0.81653416 0.79227828 0.75690749 0.78884881 0.78442777\n",
      " 0.81723631 0.81806295 0.79909663 0.8369053  0.8619873  0.84244266\n",
      " 0.85934272 0.87752389 0.89020934 0.90306025 0.93293348 0.9531527\n",
      " 0.93823696 0.92265835 0.93048895 0.92290667 0.95294549 0.94540495\n",
      " 0.97063784 0.96077622 0.96731418]\n",
      "0 day output [[0.96741354]]\n",
      "1 day input [0.87407687 0.88384652 0.87803418 0.89782155 0.92436938 0.92725447\n",
      " 0.95458575 0.93694218 0.93141835 0.94749528 0.96188252 0.9529784\n",
      " 0.95763643 0.96394358 0.9601512  0.92156571 0.95759546 0.98500869\n",
      " 0.98307094 0.92387456 0.92037043 0.96237707 0.97309524 0.98859489\n",
      " 0.97037248 0.97665322 0.96863687 1.         0.99037174 0.99070239\n",
      " 0.96611638 0.9852064  0.97148802 0.94153023 0.88008614 0.83835149\n",
      " 0.85723548 0.77818787 0.77752695 0.88268936 0.84347521 0.89892824\n",
      " 0.85835114 0.84227681 0.74781697 0.82702938 0.78608052 0.67368684\n",
      " 0.796576   0.64881173 0.69281855 0.66724103 0.65943124 0.5952184\n",
      " 0.57509479 0.66810864 0.66248914 0.71587584 0.67166239 0.70087627\n",
      " 0.6987276  0.6434399  0.66005092 0.64550603 0.73252804 0.71996662\n",
      " 0.74740397 0.75533747 0.77707234 0.83409552 0.82326926 0.83260797\n",
      " 0.81653416 0.79227828 0.75690749 0.78884881 0.78442777 0.81723631\n",
      " 0.81806295 0.79909663 0.8369053  0.8619873  0.84244266 0.85934272\n",
      " 0.87752389 0.89020934 0.90306025 0.93293348 0.9531527  0.93823696\n",
      " 0.92265835 0.93048895 0.92290667 0.95294549 0.94540495 0.97063784\n",
      " 0.96077622 0.96731418 0.96741354]\n",
      "1 day output [[0.9670685]]\n",
      "2 day input [0.88384652 0.87803418 0.89782155 0.92436938 0.92725447 0.95458575\n",
      " 0.93694218 0.93141835 0.94749528 0.96188252 0.9529784  0.95763643\n",
      " 0.96394358 0.9601512  0.92156571 0.95759546 0.98500869 0.98307094\n",
      " 0.92387456 0.92037043 0.96237707 0.97309524 0.98859489 0.97037248\n",
      " 0.97665322 0.96863687 1.         0.99037174 0.99070239 0.96611638\n",
      " 0.9852064  0.97148802 0.94153023 0.88008614 0.83835149 0.85723548\n",
      " 0.77818787 0.77752695 0.88268936 0.84347521 0.89892824 0.85835114\n",
      " 0.84227681 0.74781697 0.82702938 0.78608052 0.67368684 0.796576\n",
      " 0.64881173 0.69281855 0.66724103 0.65943124 0.5952184  0.57509479\n",
      " 0.66810864 0.66248914 0.71587584 0.67166239 0.70087627 0.6987276\n",
      " 0.6434399  0.66005092 0.64550603 0.73252804 0.71996662 0.74740397\n",
      " 0.75533747 0.77707234 0.83409552 0.82326926 0.83260797 0.81653416\n",
      " 0.79227828 0.75690749 0.78884881 0.78442777 0.81723631 0.81806295\n",
      " 0.79909663 0.8369053  0.8619873  0.84244266 0.85934272 0.87752389\n",
      " 0.89020934 0.90306025 0.93293348 0.9531527  0.93823696 0.92265835\n",
      " 0.93048895 0.92290667 0.95294549 0.94540495 0.97063784 0.96077622\n",
      " 0.96731418 0.96741354 0.96706849]\n",
      "2 day output [[0.9667988]]\n",
      "3 day input [0.87803418 0.89782155 0.92436938 0.92725447 0.95458575 0.93694218\n",
      " 0.93141835 0.94749528 0.96188252 0.9529784  0.95763643 0.96394358\n",
      " 0.9601512  0.92156571 0.95759546 0.98500869 0.98307094 0.92387456\n",
      " 0.92037043 0.96237707 0.97309524 0.98859489 0.97037248 0.97665322\n",
      " 0.96863687 1.         0.99037174 0.99070239 0.96611638 0.9852064\n",
      " 0.97148802 0.94153023 0.88008614 0.83835149 0.85723548 0.77818787\n",
      " 0.77752695 0.88268936 0.84347521 0.89892824 0.85835114 0.84227681\n",
      " 0.74781697 0.82702938 0.78608052 0.67368684 0.796576   0.64881173\n",
      " 0.69281855 0.66724103 0.65943124 0.5952184  0.57509479 0.66810864\n",
      " 0.66248914 0.71587584 0.67166239 0.70087627 0.6987276  0.6434399\n",
      " 0.66005092 0.64550603 0.73252804 0.71996662 0.74740397 0.75533747\n",
      " 0.77707234 0.83409552 0.82326926 0.83260797 0.81653416 0.79227828\n",
      " 0.75690749 0.78884881 0.78442777 0.81723631 0.81806295 0.79909663\n",
      " 0.8369053  0.8619873  0.84244266 0.85934272 0.87752389 0.89020934\n",
      " 0.90306025 0.93293348 0.9531527  0.93823696 0.92265835 0.93048895\n",
      " 0.92290667 0.95294549 0.94540495 0.97063784 0.96077622 0.96731418\n",
      " 0.96741354 0.96706849 0.96679878]\n",
      "3 day output [[0.9671793]]\n",
      "4 day input [0.89782155 0.92436938 0.92725447 0.95458575 0.93694218 0.93141835\n",
      " 0.94749528 0.96188252 0.9529784  0.95763643 0.96394358 0.9601512\n",
      " 0.92156571 0.95759546 0.98500869 0.98307094 0.92387456 0.92037043\n",
      " 0.96237707 0.97309524 0.98859489 0.97037248 0.97665322 0.96863687\n",
      " 1.         0.99037174 0.99070239 0.96611638 0.9852064  0.97148802\n",
      " 0.94153023 0.88008614 0.83835149 0.85723548 0.77818787 0.77752695\n",
      " 0.88268936 0.84347521 0.89892824 0.85835114 0.84227681 0.74781697\n",
      " 0.82702938 0.78608052 0.67368684 0.796576   0.64881173 0.69281855\n",
      " 0.66724103 0.65943124 0.5952184  0.57509479 0.66810864 0.66248914\n",
      " 0.71587584 0.67166239 0.70087627 0.6987276  0.6434399  0.66005092\n",
      " 0.64550603 0.73252804 0.71996662 0.74740397 0.75533747 0.77707234\n",
      " 0.83409552 0.82326926 0.83260797 0.81653416 0.79227828 0.75690749\n",
      " 0.78884881 0.78442777 0.81723631 0.81806295 0.79909663 0.8369053\n",
      " 0.8619873  0.84244266 0.85934272 0.87752389 0.89020934 0.90306025\n",
      " 0.93293348 0.9531527  0.93823696 0.92265835 0.93048895 0.92290667\n",
      " 0.95294549 0.94540495 0.97063784 0.96077622 0.96731418 0.96741354\n",
      " 0.96706849 0.96679878 0.9671793 ]\n",
      "4 day output [[0.968509]]\n",
      "5 day input [0.92436938 0.92725447 0.95458575 0.93694218 0.93141835 0.94749528\n",
      " 0.96188252 0.9529784  0.95763643 0.96394358 0.9601512  0.92156571\n",
      " 0.95759546 0.98500869 0.98307094 0.92387456 0.92037043 0.96237707\n",
      " 0.97309524 0.98859489 0.97037248 0.97665322 0.96863687 1.\n",
      " 0.99037174 0.99070239 0.96611638 0.9852064  0.97148802 0.94153023\n",
      " 0.88008614 0.83835149 0.85723548 0.77818787 0.77752695 0.88268936\n",
      " 0.84347521 0.89892824 0.85835114 0.84227681 0.74781697 0.82702938\n",
      " 0.78608052 0.67368684 0.796576   0.64881173 0.69281855 0.66724103\n",
      " 0.65943124 0.5952184  0.57509479 0.66810864 0.66248914 0.71587584\n",
      " 0.67166239 0.70087627 0.6987276  0.6434399  0.66005092 0.64550603\n",
      " 0.73252804 0.71996662 0.74740397 0.75533747 0.77707234 0.83409552\n",
      " 0.82326926 0.83260797 0.81653416 0.79227828 0.75690749 0.78884881\n",
      " 0.78442777 0.81723631 0.81806295 0.79909663 0.8369053  0.8619873\n",
      " 0.84244266 0.85934272 0.87752389 0.89020934 0.90306025 0.93293348\n",
      " 0.9531527  0.93823696 0.92265835 0.93048895 0.92290667 0.95294549\n",
      " 0.94540495 0.97063784 0.96077622 0.96731418 0.96741354 0.96706849\n",
      " 0.96679878 0.9671793  0.96850902]\n",
      "5 day output [[0.9707876]]\n",
      "6 day input [0.92725447 0.95458575 0.93694218 0.93141835 0.94749528 0.96188252\n",
      " 0.9529784  0.95763643 0.96394358 0.9601512  0.92156571 0.95759546\n",
      " 0.98500869 0.98307094 0.92387456 0.92037043 0.96237707 0.97309524\n",
      " 0.98859489 0.97037248 0.97665322 0.96863687 1.         0.99037174\n",
      " 0.99070239 0.96611638 0.9852064  0.97148802 0.94153023 0.88008614\n",
      " 0.83835149 0.85723548 0.77818787 0.77752695 0.88268936 0.84347521\n",
      " 0.89892824 0.85835114 0.84227681 0.74781697 0.82702938 0.78608052\n",
      " 0.67368684 0.796576   0.64881173 0.69281855 0.66724103 0.65943124\n",
      " 0.5952184  0.57509479 0.66810864 0.66248914 0.71587584 0.67166239\n",
      " 0.70087627 0.6987276  0.6434399  0.66005092 0.64550603 0.73252804\n",
      " 0.71996662 0.74740397 0.75533747 0.77707234 0.83409552 0.82326926\n",
      " 0.83260797 0.81653416 0.79227828 0.75690749 0.78884881 0.78442777\n",
      " 0.81723631 0.81806295 0.79909663 0.8369053  0.8619873  0.84244266\n",
      " 0.85934272 0.87752389 0.89020934 0.90306025 0.93293348 0.9531527\n",
      " 0.93823696 0.92265835 0.93048895 0.92290667 0.95294549 0.94540495\n",
      " 0.97063784 0.96077622 0.96731418 0.96741354 0.96706849 0.96679878\n",
      " 0.9671793  0.96850902 0.97078758]\n",
      "6 day output [[0.9737821]]\n",
      "7 day input [0.95458575 0.93694218 0.93141835 0.94749528 0.96188252 0.9529784\n",
      " 0.95763643 0.96394358 0.9601512  0.92156571 0.95759546 0.98500869\n",
      " 0.98307094 0.92387456 0.92037043 0.96237707 0.97309524 0.98859489\n",
      " 0.97037248 0.97665322 0.96863687 1.         0.99037174 0.99070239\n",
      " 0.96611638 0.9852064  0.97148802 0.94153023 0.88008614 0.83835149\n",
      " 0.85723548 0.77818787 0.77752695 0.88268936 0.84347521 0.89892824\n",
      " 0.85835114 0.84227681 0.74781697 0.82702938 0.78608052 0.67368684\n",
      " 0.796576   0.64881173 0.69281855 0.66724103 0.65943124 0.5952184\n",
      " 0.57509479 0.66810864 0.66248914 0.71587584 0.67166239 0.70087627\n",
      " 0.6987276  0.6434399  0.66005092 0.64550603 0.73252804 0.71996662\n",
      " 0.74740397 0.75533747 0.77707234 0.83409552 0.82326926 0.83260797\n",
      " 0.81653416 0.79227828 0.75690749 0.78884881 0.78442777 0.81723631\n",
      " 0.81806295 0.79909663 0.8369053  0.8619873  0.84244266 0.85934272\n",
      " 0.87752389 0.89020934 0.90306025 0.93293348 0.9531527  0.93823696\n",
      " 0.92265835 0.93048895 0.92290667 0.95294549 0.94540495 0.97063784\n",
      " 0.96077622 0.96731418 0.96741354 0.96706849 0.96679878 0.9671793\n",
      " 0.96850902 0.97078758 0.97378212]\n",
      "7 day output [[0.97713584]]\n",
      "8 day input [0.93694218 0.93141835 0.94749528 0.96188252 0.9529784  0.95763643\n",
      " 0.96394358 0.9601512  0.92156571 0.95759546 0.98500869 0.98307094\n",
      " 0.92387456 0.92037043 0.96237707 0.97309524 0.98859489 0.97037248\n",
      " 0.97665322 0.96863687 1.         0.99037174 0.99070239 0.96611638\n",
      " 0.9852064  0.97148802 0.94153023 0.88008614 0.83835149 0.85723548\n",
      " 0.77818787 0.77752695 0.88268936 0.84347521 0.89892824 0.85835114\n",
      " 0.84227681 0.74781697 0.82702938 0.78608052 0.67368684 0.796576\n",
      " 0.64881173 0.69281855 0.66724103 0.65943124 0.5952184  0.57509479\n",
      " 0.66810864 0.66248914 0.71587584 0.67166239 0.70087627 0.6987276\n",
      " 0.6434399  0.66005092 0.64550603 0.73252804 0.71996662 0.74740397\n",
      " 0.75533747 0.77707234 0.83409552 0.82326926 0.83260797 0.81653416\n",
      " 0.79227828 0.75690749 0.78884881 0.78442777 0.81723631 0.81806295\n",
      " 0.79909663 0.8369053  0.8619873  0.84244266 0.85934272 0.87752389\n",
      " 0.89020934 0.90306025 0.93293348 0.9531527  0.93823696 0.92265835\n",
      " 0.93048895 0.92290667 0.95294549 0.94540495 0.97063784 0.96077622\n",
      " 0.96731418 0.96741354 0.96706849 0.96679878 0.9671793  0.96850902\n",
      " 0.97078758 0.97378212 0.97713584]\n",
      "8 day output [[0.98048264]]\n",
      "9 day input [0.93141835 0.94749528 0.96188252 0.9529784  0.95763643 0.96394358\n",
      " 0.9601512  0.92156571 0.95759546 0.98500869 0.98307094 0.92387456\n",
      " 0.92037043 0.96237707 0.97309524 0.98859489 0.97037248 0.97665322\n",
      " 0.96863687 1.         0.99037174 0.99070239 0.96611638 0.9852064\n",
      " 0.97148802 0.94153023 0.88008614 0.83835149 0.85723548 0.77818787\n",
      " 0.77752695 0.88268936 0.84347521 0.89892824 0.85835114 0.84227681\n",
      " 0.74781697 0.82702938 0.78608052 0.67368684 0.796576   0.64881173\n",
      " 0.69281855 0.66724103 0.65943124 0.5952184  0.57509479 0.66810864\n",
      " 0.66248914 0.71587584 0.67166239 0.70087627 0.6987276  0.6434399\n",
      " 0.66005092 0.64550603 0.73252804 0.71996662 0.74740397 0.75533747\n",
      " 0.77707234 0.83409552 0.82326926 0.83260797 0.81653416 0.79227828\n",
      " 0.75690749 0.78884881 0.78442777 0.81723631 0.81806295 0.79909663\n",
      " 0.8369053  0.8619873  0.84244266 0.85934272 0.87752389 0.89020934\n",
      " 0.90306025 0.93293348 0.9531527  0.93823696 0.92265835 0.93048895\n",
      " 0.92290667 0.95294549 0.94540495 0.97063784 0.96077622 0.96731418\n",
      " 0.96741354 0.96706849 0.96679878 0.9671793  0.96850902 0.97078758\n",
      " 0.97378212 0.97713584 0.98048264]\n",
      "9 day output [[0.9835422]]\n",
      "10 day input [0.94749528 0.96188252 0.9529784  0.95763643 0.96394358 0.9601512\n",
      " 0.92156571 0.95759546 0.98500869 0.98307094 0.92387456 0.92037043\n",
      " 0.96237707 0.97309524 0.98859489 0.97037248 0.97665322 0.96863687\n",
      " 1.         0.99037174 0.99070239 0.96611638 0.9852064  0.97148802\n",
      " 0.94153023 0.88008614 0.83835149 0.85723548 0.77818787 0.77752695\n",
      " 0.88268936 0.84347521 0.89892824 0.85835114 0.84227681 0.74781697\n",
      " 0.82702938 0.78608052 0.67368684 0.796576   0.64881173 0.69281855\n",
      " 0.66724103 0.65943124 0.5952184  0.57509479 0.66810864 0.66248914\n",
      " 0.71587584 0.67166239 0.70087627 0.6987276  0.6434399  0.66005092\n",
      " 0.64550603 0.73252804 0.71996662 0.74740397 0.75533747 0.77707234\n",
      " 0.83409552 0.82326926 0.83260797 0.81653416 0.79227828 0.75690749\n",
      " 0.78884881 0.78442777 0.81723631 0.81806295 0.79909663 0.8369053\n",
      " 0.8619873  0.84244266 0.85934272 0.87752389 0.89020934 0.90306025\n",
      " 0.93293348 0.9531527  0.93823696 0.92265835 0.93048895 0.92290667\n",
      " 0.95294549 0.94540495 0.97063784 0.96077622 0.96731418 0.96741354\n",
      " 0.96706849 0.96679878 0.9671793  0.96850902 0.97078758 0.97378212\n",
      " 0.97713584 0.98048264 0.9835422 ]\n",
      "10 day output [[0.98617387]]\n",
      "11 day input [0.96188252 0.9529784  0.95763643 0.96394358 0.9601512  0.92156571\n",
      " 0.95759546 0.98500869 0.98307094 0.92387456 0.92037043 0.96237707\n",
      " 0.97309524 0.98859489 0.97037248 0.97665322 0.96863687 1.\n",
      " 0.99037174 0.99070239 0.96611638 0.9852064  0.97148802 0.94153023\n",
      " 0.88008614 0.83835149 0.85723548 0.77818787 0.77752695 0.88268936\n",
      " 0.84347521 0.89892824 0.85835114 0.84227681 0.74781697 0.82702938\n",
      " 0.78608052 0.67368684 0.796576   0.64881173 0.69281855 0.66724103\n",
      " 0.65943124 0.5952184  0.57509479 0.66810864 0.66248914 0.71587584\n",
      " 0.67166239 0.70087627 0.6987276  0.6434399  0.66005092 0.64550603\n",
      " 0.73252804 0.71996662 0.74740397 0.75533747 0.77707234 0.83409552\n",
      " 0.82326926 0.83260797 0.81653416 0.79227828 0.75690749 0.78884881\n",
      " 0.78442777 0.81723631 0.81806295 0.79909663 0.8369053  0.8619873\n",
      " 0.84244266 0.85934272 0.87752389 0.89020934 0.90306025 0.93293348\n",
      " 0.9531527  0.93823696 0.92265835 0.93048895 0.92290667 0.95294549\n",
      " 0.94540495 0.97063784 0.96077622 0.96731418 0.96741354 0.96706849\n",
      " 0.96679878 0.9671793  0.96850902 0.97078758 0.97378212 0.97713584\n",
      " 0.98048264 0.9835422  0.98617387]\n",
      "11 day output [[0.9883853]]\n",
      "12 day input [0.9529784  0.95763643 0.96394358 0.9601512  0.92156571 0.95759546\n",
      " 0.98500869 0.98307094 0.92387456 0.92037043 0.96237707 0.97309524\n",
      " 0.98859489 0.97037248 0.97665322 0.96863687 1.         0.99037174\n",
      " 0.99070239 0.96611638 0.9852064  0.97148802 0.94153023 0.88008614\n",
      " 0.83835149 0.85723548 0.77818787 0.77752695 0.88268936 0.84347521\n",
      " 0.89892824 0.85835114 0.84227681 0.74781697 0.82702938 0.78608052\n",
      " 0.67368684 0.796576   0.64881173 0.69281855 0.66724103 0.65943124\n",
      " 0.5952184  0.57509479 0.66810864 0.66248914 0.71587584 0.67166239\n",
      " 0.70087627 0.6987276  0.6434399  0.66005092 0.64550603 0.73252804\n",
      " 0.71996662 0.74740397 0.75533747 0.77707234 0.83409552 0.82326926\n",
      " 0.83260797 0.81653416 0.79227828 0.75690749 0.78884881 0.78442777\n",
      " 0.81723631 0.81806295 0.79909663 0.8369053  0.8619873  0.84244266\n",
      " 0.85934272 0.87752389 0.89020934 0.90306025 0.93293348 0.9531527\n",
      " 0.93823696 0.92265835 0.93048895 0.92290667 0.95294549 0.94540495\n",
      " 0.97063784 0.96077622 0.96731418 0.96741354 0.96706849 0.96679878\n",
      " 0.9671793  0.96850902 0.97078758 0.97378212 0.97713584 0.98048264\n",
      " 0.9835422  0.98617387 0.98838532]\n",
      "12 day output [[0.9903049]]\n",
      "13 day input [0.95763643 0.96394358 0.9601512  0.92156571 0.95759546 0.98500869\n",
      " 0.98307094 0.92387456 0.92037043 0.96237707 0.97309524 0.98859489\n",
      " 0.97037248 0.97665322 0.96863687 1.         0.99037174 0.99070239\n",
      " 0.96611638 0.9852064  0.97148802 0.94153023 0.88008614 0.83835149\n",
      " 0.85723548 0.77818787 0.77752695 0.88268936 0.84347521 0.89892824\n",
      " 0.85835114 0.84227681 0.74781697 0.82702938 0.78608052 0.67368684\n",
      " 0.796576   0.64881173 0.69281855 0.66724103 0.65943124 0.5952184\n",
      " 0.57509479 0.66810864 0.66248914 0.71587584 0.67166239 0.70087627\n",
      " 0.6987276  0.6434399  0.66005092 0.64550603 0.73252804 0.71996662\n",
      " 0.74740397 0.75533747 0.77707234 0.83409552 0.82326926 0.83260797\n",
      " 0.81653416 0.79227828 0.75690749 0.78884881 0.78442777 0.81723631\n",
      " 0.81806295 0.79909663 0.8369053  0.8619873  0.84244266 0.85934272\n",
      " 0.87752389 0.89020934 0.90306025 0.93293348 0.9531527  0.93823696\n",
      " 0.92265835 0.93048895 0.92290667 0.95294549 0.94540495 0.97063784\n",
      " 0.96077622 0.96731418 0.96741354 0.96706849 0.96679878 0.9671793\n",
      " 0.96850902 0.97078758 0.97378212 0.97713584 0.98048264 0.9835422\n",
      " 0.98617387 0.98838532 0.99030489]\n",
      "13 day output [[0.9921296]]\n",
      "14 day input [0.96394358 0.9601512  0.92156571 0.95759546 0.98500869 0.98307094\n",
      " 0.92387456 0.92037043 0.96237707 0.97309524 0.98859489 0.97037248\n",
      " 0.97665322 0.96863687 1.         0.99037174 0.99070239 0.96611638\n",
      " 0.9852064  0.97148802 0.94153023 0.88008614 0.83835149 0.85723548\n",
      " 0.77818787 0.77752695 0.88268936 0.84347521 0.89892824 0.85835114\n",
      " 0.84227681 0.74781697 0.82702938 0.78608052 0.67368684 0.796576\n",
      " 0.64881173 0.69281855 0.66724103 0.65943124 0.5952184  0.57509479\n",
      " 0.66810864 0.66248914 0.71587584 0.67166239 0.70087627 0.6987276\n",
      " 0.6434399  0.66005092 0.64550603 0.73252804 0.71996662 0.74740397\n",
      " 0.75533747 0.77707234 0.83409552 0.82326926 0.83260797 0.81653416\n",
      " 0.79227828 0.75690749 0.78884881 0.78442777 0.81723631 0.81806295\n",
      " 0.79909663 0.8369053  0.8619873  0.84244266 0.85934272 0.87752389\n",
      " 0.89020934 0.90306025 0.93293348 0.9531527  0.93823696 0.92265835\n",
      " 0.93048895 0.92290667 0.95294549 0.94540495 0.97063784 0.96077622\n",
      " 0.96731418 0.96741354 0.96706849 0.96679878 0.9671793  0.96850902\n",
      " 0.97078758 0.97378212 0.97713584 0.98048264 0.9835422  0.98617387\n",
      " 0.98838532 0.99030489 0.99212962]\n",
      "14 day output [[0.99406445]]\n",
      "15 day input [0.9601512  0.92156571 0.95759546 0.98500869 0.98307094 0.92387456\n",
      " 0.92037043 0.96237707 0.97309524 0.98859489 0.97037248 0.97665322\n",
      " 0.96863687 1.         0.99037174 0.99070239 0.96611638 0.9852064\n",
      " 0.97148802 0.94153023 0.88008614 0.83835149 0.85723548 0.77818787\n",
      " 0.77752695 0.88268936 0.84347521 0.89892824 0.85835114 0.84227681\n",
      " 0.74781697 0.82702938 0.78608052 0.67368684 0.796576   0.64881173\n",
      " 0.69281855 0.66724103 0.65943124 0.5952184  0.57509479 0.66810864\n",
      " 0.66248914 0.71587584 0.67166239 0.70087627 0.6987276  0.6434399\n",
      " 0.66005092 0.64550603 0.73252804 0.71996662 0.74740397 0.75533747\n",
      " 0.77707234 0.83409552 0.82326926 0.83260797 0.81653416 0.79227828\n",
      " 0.75690749 0.78884881 0.78442777 0.81723631 0.81806295 0.79909663\n",
      " 0.8369053  0.8619873  0.84244266 0.85934272 0.87752389 0.89020934\n",
      " 0.90306025 0.93293348 0.9531527  0.93823696 0.92265835 0.93048895\n",
      " 0.92290667 0.95294549 0.94540495 0.97063784 0.96077622 0.96731418\n",
      " 0.96741354 0.96706849 0.96679878 0.9671793  0.96850902 0.97078758\n",
      " 0.97378212 0.97713584 0.98048264 0.9835422  0.98617387 0.98838532\n",
      " 0.99030489 0.99212962 0.99406445]\n",
      "15 day output [[0.996272]]\n",
      "16 day input [0.92156571 0.95759546 0.98500869 0.98307094 0.92387456 0.92037043\n",
      " 0.96237707 0.97309524 0.98859489 0.97037248 0.97665322 0.96863687\n",
      " 1.         0.99037174 0.99070239 0.96611638 0.9852064  0.97148802\n",
      " 0.94153023 0.88008614 0.83835149 0.85723548 0.77818787 0.77752695\n",
      " 0.88268936 0.84347521 0.89892824 0.85835114 0.84227681 0.74781697\n",
      " 0.82702938 0.78608052 0.67368684 0.796576   0.64881173 0.69281855\n",
      " 0.66724103 0.65943124 0.5952184  0.57509479 0.66810864 0.66248914\n",
      " 0.71587584 0.67166239 0.70087627 0.6987276  0.6434399  0.66005092\n",
      " 0.64550603 0.73252804 0.71996662 0.74740397 0.75533747 0.77707234\n",
      " 0.83409552 0.82326926 0.83260797 0.81653416 0.79227828 0.75690749\n",
      " 0.78884881 0.78442777 0.81723631 0.81806295 0.79909663 0.8369053\n",
      " 0.8619873  0.84244266 0.85934272 0.87752389 0.89020934 0.90306025\n",
      " 0.93293348 0.9531527  0.93823696 0.92265835 0.93048895 0.92290667\n",
      " 0.95294549 0.94540495 0.97063784 0.96077622 0.96731418 0.96741354\n",
      " 0.96706849 0.96679878 0.9671793  0.96850902 0.97078758 0.97378212\n",
      " 0.97713584 0.98048264 0.9835422  0.98617387 0.98838532 0.99030489\n",
      " 0.99212962 0.99406445 0.99627203]\n",
      "16 day output [[0.99884474]]\n",
      "17 day input [0.95759546 0.98500869 0.98307094 0.92387456 0.92037043 0.96237707\n",
      " 0.97309524 0.98859489 0.97037248 0.97665322 0.96863687 1.\n",
      " 0.99037174 0.99070239 0.96611638 0.9852064  0.97148802 0.94153023\n",
      " 0.88008614 0.83835149 0.85723548 0.77818787 0.77752695 0.88268936\n",
      " 0.84347521 0.89892824 0.85835114 0.84227681 0.74781697 0.82702938\n",
      " 0.78608052 0.67368684 0.796576   0.64881173 0.69281855 0.66724103\n",
      " 0.65943124 0.5952184  0.57509479 0.66810864 0.66248914 0.71587584\n",
      " 0.67166239 0.70087627 0.6987276  0.6434399  0.66005092 0.64550603\n",
      " 0.73252804 0.71996662 0.74740397 0.75533747 0.77707234 0.83409552\n",
      " 0.82326926 0.83260797 0.81653416 0.79227828 0.75690749 0.78884881\n",
      " 0.78442777 0.81723631 0.81806295 0.79909663 0.8369053  0.8619873\n",
      " 0.84244266 0.85934272 0.87752389 0.89020934 0.90306025 0.93293348\n",
      " 0.9531527  0.93823696 0.92265835 0.93048895 0.92290667 0.95294549\n",
      " 0.94540495 0.97063784 0.96077622 0.96731418 0.96741354 0.96706849\n",
      " 0.96679878 0.9671793  0.96850902 0.97078758 0.97378212 0.97713584\n",
      " 0.98048264 0.9835422  0.98617387 0.98838532 0.99030489 0.99212962\n",
      " 0.99406445 0.99627203 0.99884474]\n",
      "17 day output [[1.0017961]]\n",
      "18 day input [0.98500869 0.98307094 0.92387456 0.92037043 0.96237707 0.97309524\n",
      " 0.98859489 0.97037248 0.97665322 0.96863687 1.         0.99037174\n",
      " 0.99070239 0.96611638 0.9852064  0.97148802 0.94153023 0.88008614\n",
      " 0.83835149 0.85723548 0.77818787 0.77752695 0.88268936 0.84347521\n",
      " 0.89892824 0.85835114 0.84227681 0.74781697 0.82702938 0.78608052\n",
      " 0.67368684 0.796576   0.64881173 0.69281855 0.66724103 0.65943124\n",
      " 0.5952184  0.57509479 0.66810864 0.66248914 0.71587584 0.67166239\n",
      " 0.70087627 0.6987276  0.6434399  0.66005092 0.64550603 0.73252804\n",
      " 0.71996662 0.74740397 0.75533747 0.77707234 0.83409552 0.82326926\n",
      " 0.83260797 0.81653416 0.79227828 0.75690749 0.78884881 0.78442777\n",
      " 0.81723631 0.81806295 0.79909663 0.8369053  0.8619873  0.84244266\n",
      " 0.85934272 0.87752389 0.89020934 0.90306025 0.93293348 0.9531527\n",
      " 0.93823696 0.92265835 0.93048895 0.92290667 0.95294549 0.94540495\n",
      " 0.97063784 0.96077622 0.96731418 0.96741354 0.96706849 0.96679878\n",
      " 0.9671793  0.96850902 0.97078758 0.97378212 0.97713584 0.98048264\n",
      " 0.9835422  0.98617387 0.98838532 0.99030489 0.99212962 0.99406445\n",
      " 0.99627203 0.99884474 1.00179613]\n",
      "18 day output [[1.0050708]]\n",
      "19 day input [0.98307094 0.92387456 0.92037043 0.96237707 0.97309524 0.98859489\n",
      " 0.97037248 0.97665322 0.96863687 1.         0.99037174 0.99070239\n",
      " 0.96611638 0.9852064  0.97148802 0.94153023 0.88008614 0.83835149\n",
      " 0.85723548 0.77818787 0.77752695 0.88268936 0.84347521 0.89892824\n",
      " 0.85835114 0.84227681 0.74781697 0.82702938 0.78608052 0.67368684\n",
      " 0.796576   0.64881173 0.69281855 0.66724103 0.65943124 0.5952184\n",
      " 0.57509479 0.66810864 0.66248914 0.71587584 0.67166239 0.70087627\n",
      " 0.6987276  0.6434399  0.66005092 0.64550603 0.73252804 0.71996662\n",
      " 0.74740397 0.75533747 0.77707234 0.83409552 0.82326926 0.83260797\n",
      " 0.81653416 0.79227828 0.75690749 0.78884881 0.78442777 0.81723631\n",
      " 0.81806295 0.79909663 0.8369053  0.8619873  0.84244266 0.85934272\n",
      " 0.87752389 0.89020934 0.90306025 0.93293348 0.9531527  0.93823696\n",
      " 0.92265835 0.93048895 0.92290667 0.95294549 0.94540495 0.97063784\n",
      " 0.96077622 0.96731418 0.96741354 0.96706849 0.96679878 0.9671793\n",
      " 0.96850902 0.97078758 0.97378212 0.97713584 0.98048264 0.9835422\n",
      " 0.98617387 0.98838532 0.99030489 0.99212962 0.99406445 0.99627203\n",
      " 0.99884474 1.00179613 1.00507081]\n",
      "19 day output [[1.0085747]]\n",
      "20 day input [0.92387456 0.92037043 0.96237707 0.97309524 0.98859489 0.97037248\n",
      " 0.97665322 0.96863687 1.         0.99037174 0.99070239 0.96611638\n",
      " 0.9852064  0.97148802 0.94153023 0.88008614 0.83835149 0.85723548\n",
      " 0.77818787 0.77752695 0.88268936 0.84347521 0.89892824 0.85835114\n",
      " 0.84227681 0.74781697 0.82702938 0.78608052 0.67368684 0.796576\n",
      " 0.64881173 0.69281855 0.66724103 0.65943124 0.5952184  0.57509479\n",
      " 0.66810864 0.66248914 0.71587584 0.67166239 0.70087627 0.6987276\n",
      " 0.6434399  0.66005092 0.64550603 0.73252804 0.71996662 0.74740397\n",
      " 0.75533747 0.77707234 0.83409552 0.82326926 0.83260797 0.81653416\n",
      " 0.79227828 0.75690749 0.78884881 0.78442777 0.81723631 0.81806295\n",
      " 0.79909663 0.8369053  0.8619873  0.84244266 0.85934272 0.87752389\n",
      " 0.89020934 0.90306025 0.93293348 0.9531527  0.93823696 0.92265835\n",
      " 0.93048895 0.92290667 0.95294549 0.94540495 0.97063784 0.96077622\n",
      " 0.96731418 0.96741354 0.96706849 0.96679878 0.9671793  0.96850902\n",
      " 0.97078758 0.97378212 0.97713584 0.98048264 0.9835422  0.98617387\n",
      " 0.98838532 0.99030489 0.99212962 0.99406445 0.99627203 0.99884474\n",
      " 1.00179613 1.00507081 1.00857472]\n",
      "20 day output [[1.012203]]\n",
      "21 day input [0.92037043 0.96237707 0.97309524 0.98859489 0.97037248 0.97665322\n",
      " 0.96863687 1.         0.99037174 0.99070239 0.96611638 0.9852064\n",
      " 0.97148802 0.94153023 0.88008614 0.83835149 0.85723548 0.77818787\n",
      " 0.77752695 0.88268936 0.84347521 0.89892824 0.85835114 0.84227681\n",
      " 0.74781697 0.82702938 0.78608052 0.67368684 0.796576   0.64881173\n",
      " 0.69281855 0.66724103 0.65943124 0.5952184  0.57509479 0.66810864\n",
      " 0.66248914 0.71587584 0.67166239 0.70087627 0.6987276  0.6434399\n",
      " 0.66005092 0.64550603 0.73252804 0.71996662 0.74740397 0.75533747\n",
      " 0.77707234 0.83409552 0.82326926 0.83260797 0.81653416 0.79227828\n",
      " 0.75690749 0.78884881 0.78442777 0.81723631 0.81806295 0.79909663\n",
      " 0.8369053  0.8619873  0.84244266 0.85934272 0.87752389 0.89020934\n",
      " 0.90306025 0.93293348 0.9531527  0.93823696 0.92265835 0.93048895\n",
      " 0.92290667 0.95294549 0.94540495 0.97063784 0.96077622 0.96731418\n",
      " 0.96741354 0.96706849 0.96679878 0.9671793  0.96850902 0.97078758\n",
      " 0.97378212 0.97713584 0.98048264 0.9835422  0.98617387 0.98838532\n",
      " 0.99030489 0.99212962 0.99406445 0.99627203 0.99884474 1.00179613\n",
      " 1.00507081 1.00857472 1.01220298]\n",
      "21 day output [[1.0158669]]\n",
      "22 day input [0.96237707 0.97309524 0.98859489 0.97037248 0.97665322 0.96863687\n",
      " 1.         0.99037174 0.99070239 0.96611638 0.9852064  0.97148802\n",
      " 0.94153023 0.88008614 0.83835149 0.85723548 0.77818787 0.77752695\n",
      " 0.88268936 0.84347521 0.89892824 0.85835114 0.84227681 0.74781697\n",
      " 0.82702938 0.78608052 0.67368684 0.796576   0.64881173 0.69281855\n",
      " 0.66724103 0.65943124 0.5952184  0.57509479 0.66810864 0.66248914\n",
      " 0.71587584 0.67166239 0.70087627 0.6987276  0.6434399  0.66005092\n",
      " 0.64550603 0.73252804 0.71996662 0.74740397 0.75533747 0.77707234\n",
      " 0.83409552 0.82326926 0.83260797 0.81653416 0.79227828 0.75690749\n",
      " 0.78884881 0.78442777 0.81723631 0.81806295 0.79909663 0.8369053\n",
      " 0.8619873  0.84244266 0.85934272 0.87752389 0.89020934 0.90306025\n",
      " 0.93293348 0.9531527  0.93823696 0.92265835 0.93048895 0.92290667\n",
      " 0.95294549 0.94540495 0.97063784 0.96077622 0.96731418 0.96741354\n",
      " 0.96706849 0.96679878 0.9671793  0.96850902 0.97078758 0.97378212\n",
      " 0.97713584 0.98048264 0.9835422  0.98617387 0.98838532 0.99030489\n",
      " 0.99212962 0.99406445 0.99627203 0.99884474 1.00179613 1.00507081\n",
      " 1.00857472 1.01220298 1.01586688]\n",
      "22 day output [[1.0195091]]\n",
      "23 day input [0.97309524 0.98859489 0.97037248 0.97665322 0.96863687 1.\n",
      " 0.99037174 0.99070239 0.96611638 0.9852064  0.97148802 0.94153023\n",
      " 0.88008614 0.83835149 0.85723548 0.77818787 0.77752695 0.88268936\n",
      " 0.84347521 0.89892824 0.85835114 0.84227681 0.74781697 0.82702938\n",
      " 0.78608052 0.67368684 0.796576   0.64881173 0.69281855 0.66724103\n",
      " 0.65943124 0.5952184  0.57509479 0.66810864 0.66248914 0.71587584\n",
      " 0.67166239 0.70087627 0.6987276  0.6434399  0.66005092 0.64550603\n",
      " 0.73252804 0.71996662 0.74740397 0.75533747 0.77707234 0.83409552\n",
      " 0.82326926 0.83260797 0.81653416 0.79227828 0.75690749 0.78884881\n",
      " 0.78442777 0.81723631 0.81806295 0.79909663 0.8369053  0.8619873\n",
      " 0.84244266 0.85934272 0.87752389 0.89020934 0.90306025 0.93293348\n",
      " 0.9531527  0.93823696 0.92265835 0.93048895 0.92290667 0.95294549\n",
      " 0.94540495 0.97063784 0.96077622 0.96731418 0.96741354 0.96706849\n",
      " 0.96679878 0.9671793  0.96850902 0.97078758 0.97378212 0.97713584\n",
      " 0.98048264 0.9835422  0.98617387 0.98838532 0.99030489 0.99212962\n",
      " 0.99406445 0.99627203 0.99884474 1.00179613 1.00507081 1.00857472\n",
      " 1.01220298 1.01586688 1.01950908]\n",
      "23 day output [[1.0231088]]\n",
      "24 day input [0.98859489 0.97037248 0.97665322 0.96863687 1.         0.99037174\n",
      " 0.99070239 0.96611638 0.9852064  0.97148802 0.94153023 0.88008614\n",
      " 0.83835149 0.85723548 0.77818787 0.77752695 0.88268936 0.84347521\n",
      " 0.89892824 0.85835114 0.84227681 0.74781697 0.82702938 0.78608052\n",
      " 0.67368684 0.796576   0.64881173 0.69281855 0.66724103 0.65943124\n",
      " 0.5952184  0.57509479 0.66810864 0.66248914 0.71587584 0.67166239\n",
      " 0.70087627 0.6987276  0.6434399  0.66005092 0.64550603 0.73252804\n",
      " 0.71996662 0.74740397 0.75533747 0.77707234 0.83409552 0.82326926\n",
      " 0.83260797 0.81653416 0.79227828 0.75690749 0.78884881 0.78442777\n",
      " 0.81723631 0.81806295 0.79909663 0.8369053  0.8619873  0.84244266\n",
      " 0.85934272 0.87752389 0.89020934 0.90306025 0.93293348 0.9531527\n",
      " 0.93823696 0.92265835 0.93048895 0.92290667 0.95294549 0.94540495\n",
      " 0.97063784 0.96077622 0.96731418 0.96741354 0.96706849 0.96679878\n",
      " 0.9671793  0.96850902 0.97078758 0.97378212 0.97713584 0.98048264\n",
      " 0.9835422  0.98617387 0.98838532 0.99030489 0.99212962 0.99406445\n",
      " 0.99627203 0.99884474 1.00179613 1.00507081 1.00857472 1.01220298\n",
      " 1.01586688 1.01950908 1.02310884]\n",
      "24 day output [[1.0266792]]\n",
      "25 day input [0.97037248 0.97665322 0.96863687 1.         0.99037174 0.99070239\n",
      " 0.96611638 0.9852064  0.97148802 0.94153023 0.88008614 0.83835149\n",
      " 0.85723548 0.77818787 0.77752695 0.88268936 0.84347521 0.89892824\n",
      " 0.85835114 0.84227681 0.74781697 0.82702938 0.78608052 0.67368684\n",
      " 0.796576   0.64881173 0.69281855 0.66724103 0.65943124 0.5952184\n",
      " 0.57509479 0.66810864 0.66248914 0.71587584 0.67166239 0.70087627\n",
      " 0.6987276  0.6434399  0.66005092 0.64550603 0.73252804 0.71996662\n",
      " 0.74740397 0.75533747 0.77707234 0.83409552 0.82326926 0.83260797\n",
      " 0.81653416 0.79227828 0.75690749 0.78884881 0.78442777 0.81723631\n",
      " 0.81806295 0.79909663 0.8369053  0.8619873  0.84244266 0.85934272\n",
      " 0.87752389 0.89020934 0.90306025 0.93293348 0.9531527  0.93823696\n",
      " 0.92265835 0.93048895 0.92290667 0.95294549 0.94540495 0.97063784\n",
      " 0.96077622 0.96731418 0.96741354 0.96706849 0.96679878 0.9671793\n",
      " 0.96850902 0.97078758 0.97378212 0.97713584 0.98048264 0.9835422\n",
      " 0.98617387 0.98838532 0.99030489 0.99212962 0.99406445 0.99627203\n",
      " 0.99884474 1.00179613 1.00507081 1.00857472 1.01220298 1.01586688\n",
      " 1.01950908 1.02310884 1.02667916]\n",
      "25 day output [[1.0302523]]\n",
      "26 day input [0.97665322 0.96863687 1.         0.99037174 0.99070239 0.96611638\n",
      " 0.9852064  0.97148802 0.94153023 0.88008614 0.83835149 0.85723548\n",
      " 0.77818787 0.77752695 0.88268936 0.84347521 0.89892824 0.85835114\n",
      " 0.84227681 0.74781697 0.82702938 0.78608052 0.67368684 0.796576\n",
      " 0.64881173 0.69281855 0.66724103 0.65943124 0.5952184  0.57509479\n",
      " 0.66810864 0.66248914 0.71587584 0.67166239 0.70087627 0.6987276\n",
      " 0.6434399  0.66005092 0.64550603 0.73252804 0.71996662 0.74740397\n",
      " 0.75533747 0.77707234 0.83409552 0.82326926 0.83260797 0.81653416\n",
      " 0.79227828 0.75690749 0.78884881 0.78442777 0.81723631 0.81806295\n",
      " 0.79909663 0.8369053  0.8619873  0.84244266 0.85934272 0.87752389\n",
      " 0.89020934 0.90306025 0.93293348 0.9531527  0.93823696 0.92265835\n",
      " 0.93048895 0.92290667 0.95294549 0.94540495 0.97063784 0.96077622\n",
      " 0.96731418 0.96741354 0.96706849 0.96679878 0.9671793  0.96850902\n",
      " 0.97078758 0.97378212 0.97713584 0.98048264 0.9835422  0.98617387\n",
      " 0.98838532 0.99030489 0.99212962 0.99406445 0.99627203 0.99884474\n",
      " 1.00179613 1.00507081 1.00857472 1.01220298 1.01586688 1.01950908\n",
      " 1.02310884 1.02667916 1.03025234]\n",
      "26 day output [[1.0338684]]\n",
      "27 day input [0.96863687 1.         0.99037174 0.99070239 0.96611638 0.9852064\n",
      " 0.97148802 0.94153023 0.88008614 0.83835149 0.85723548 0.77818787\n",
      " 0.77752695 0.88268936 0.84347521 0.89892824 0.85835114 0.84227681\n",
      " 0.74781697 0.82702938 0.78608052 0.67368684 0.796576   0.64881173\n",
      " 0.69281855 0.66724103 0.65943124 0.5952184  0.57509479 0.66810864\n",
      " 0.66248914 0.71587584 0.67166239 0.70087627 0.6987276  0.6434399\n",
      " 0.66005092 0.64550603 0.73252804 0.71996662 0.74740397 0.75533747\n",
      " 0.77707234 0.83409552 0.82326926 0.83260797 0.81653416 0.79227828\n",
      " 0.75690749 0.78884881 0.78442777 0.81723631 0.81806295 0.79909663\n",
      " 0.8369053  0.8619873  0.84244266 0.85934272 0.87752389 0.89020934\n",
      " 0.90306025 0.93293348 0.9531527  0.93823696 0.92265835 0.93048895\n",
      " 0.92290667 0.95294549 0.94540495 0.97063784 0.96077622 0.96731418\n",
      " 0.96741354 0.96706849 0.96679878 0.9671793  0.96850902 0.97078758\n",
      " 0.97378212 0.97713584 0.98048264 0.9835422  0.98617387 0.98838532\n",
      " 0.99030489 0.99212962 0.99406445 0.99627203 0.99884474 1.00179613\n",
      " 1.00507081 1.00857472 1.01220298 1.01586688 1.01950908 1.02310884\n",
      " 1.02667916 1.03025234 1.03386843]\n",
      "27 day output [[1.0375581]]\n",
      "28 day input [1.         0.99037174 0.99070239 0.96611638 0.9852064  0.97148802\n",
      " 0.94153023 0.88008614 0.83835149 0.85723548 0.77818787 0.77752695\n",
      " 0.88268936 0.84347521 0.89892824 0.85835114 0.84227681 0.74781697\n",
      " 0.82702938 0.78608052 0.67368684 0.796576   0.64881173 0.69281855\n",
      " 0.66724103 0.65943124 0.5952184  0.57509479 0.66810864 0.66248914\n",
      " 0.71587584 0.67166239 0.70087627 0.6987276  0.6434399  0.66005092\n",
      " 0.64550603 0.73252804 0.71996662 0.74740397 0.75533747 0.77707234\n",
      " 0.83409552 0.82326926 0.83260797 0.81653416 0.79227828 0.75690749\n",
      " 0.78884881 0.78442777 0.81723631 0.81806295 0.79909663 0.8369053\n",
      " 0.8619873  0.84244266 0.85934272 0.87752389 0.89020934 0.90306025\n",
      " 0.93293348 0.9531527  0.93823696 0.92265835 0.93048895 0.92290667\n",
      " 0.95294549 0.94540495 0.97063784 0.96077622 0.96731418 0.96741354\n",
      " 0.96706849 0.96679878 0.9671793  0.96850902 0.97078758 0.97378212\n",
      " 0.97713584 0.98048264 0.9835422  0.98617387 0.98838532 0.99030489\n",
      " 0.99212962 0.99406445 0.99627203 0.99884474 1.00179613 1.00507081\n",
      " 1.00857472 1.01220298 1.01586688 1.01950908 1.02310884 1.02667916\n",
      " 1.03025234 1.03386843 1.03755808]\n",
      "28 day output [[1.041335]]\n",
      "29 day input [0.99037174 0.99070239 0.96611638 0.9852064  0.97148802 0.94153023\n",
      " 0.88008614 0.83835149 0.85723548 0.77818787 0.77752695 0.88268936\n",
      " 0.84347521 0.89892824 0.85835114 0.84227681 0.74781697 0.82702938\n",
      " 0.78608052 0.67368684 0.796576   0.64881173 0.69281855 0.66724103\n",
      " 0.65943124 0.5952184  0.57509479 0.66810864 0.66248914 0.71587584\n",
      " 0.67166239 0.70087627 0.6987276  0.6434399  0.66005092 0.64550603\n",
      " 0.73252804 0.71996662 0.74740397 0.75533747 0.77707234 0.83409552\n",
      " 0.82326926 0.83260797 0.81653416 0.79227828 0.75690749 0.78884881\n",
      " 0.78442777 0.81723631 0.81806295 0.79909663 0.8369053  0.8619873\n",
      " 0.84244266 0.85934272 0.87752389 0.89020934 0.90306025 0.93293348\n",
      " 0.9531527  0.93823696 0.92265835 0.93048895 0.92290667 0.95294549\n",
      " 0.94540495 0.97063784 0.96077622 0.96731418 0.96741354 0.96706849\n",
      " 0.96679878 0.9671793  0.96850902 0.97078758 0.97378212 0.97713584\n",
      " 0.98048264 0.9835422  0.98617387 0.98838532 0.99030489 0.99212962\n",
      " 0.99406445 0.99627203 0.99884474 1.00179613 1.00507081 1.00857472\n",
      " 1.01220298 1.01586688 1.01950908 1.02310884 1.02667916 1.03025234\n",
      " 1.03386843 1.03755808 1.04133499]\n",
      "29 day output [[1.0451944]]\n",
      "[[0.9674135446548462], [0.9670684933662415], [0.9667987823486328], [0.9671792984008789], [0.9685090184211731], [0.9707875847816467], [0.9737821221351624], [0.9771358370780945], [0.9804826378822327], [0.9835422039031982], [0.9861738681793213], [0.9883853197097778], [0.9903048872947693], [0.9921296238899231], [0.994064450263977], [0.9962720274925232], [0.9988447427749634], [1.0017961263656616], [1.0050708055496216], [1.0085747241973877], [1.0122029781341553], [1.0158668756484985], [1.0195090770721436], [1.0231088399887085], [1.0266791582107544], [1.0302523374557495], [1.033868432044983], [1.0375580787658691], [1.0413349866867065], [1.045194387435913]]\n"
     ]
    }
   ],
   "source": [
    "# demonstrate prediction for next 10 days\n",
    "from numpy import array\n",
    "\n",
    "lst_output = []\n",
    "n_steps = 99;\n",
    "i=0\n",
    "while(i<30):\n",
    "\n",
    "    if(len(temp_input)>99):\n",
    "        # print(temp_input)\n",
    "        x_input = np.array(temp_input[1:])\n",
    "        print(\"{} day input {}\".format (i,x_input))\n",
    "        x_input= x_input.reshape((1,n_steps,1))\n",
    "        #print (x_input)\n",
    "        yhat = model.predict(x_input , verbose = 0 )\n",
    "        print(\"{} day output {}\".format(i,yhat))\n",
    "        temp_input.extend(yhat[0].tolist())\n",
    "        temp_input =temp_input[1:]\n",
    "        #print (temp_input)\n",
    "        lst_output.extend(yhat.tolist())\n",
    "        i=i+1\n",
    "    else:\n",
    "        x_input= x_input.reshape((1,n_steps,1))\n",
    "        yhat= model.predict(x_input, verbose=0)\n",
    "        print(yhat[0])\n",
    "        temp_input.extend(yhat[0].tolist())\n",
    "        print(len(temp_input))\n",
    "        lst_output.extend(yhat.tolist())\n",
    "        i=i+1\n",
    "print(lst_output)"
   ]
  },
  {
   "cell_type": "code",
   "execution_count": 84,
   "id": "4b1b2d22-0abe-4ee7-82e0-b54c2cac6406",
   "metadata": {},
   "outputs": [],
   "source": [
    "day_new = np.arange(1,101)\n",
    "day_pred = np.arange(101,131)"
   ]
  },
  {
   "cell_type": "code",
   "execution_count": 85,
   "id": "f2b4274d-edf0-449d-b698-30e1b05d74ae",
   "metadata": {},
   "outputs": [],
   "source": [
    "import matplotlib.pyplot as plt"
   ]
  },
  {
   "cell_type": "code",
   "execution_count": 86,
   "id": "cdd02fe7-d9c4-440f-949b-968ec445614e",
   "metadata": {},
   "outputs": [
    {
     "data": {
      "text/plain": [
       "1257"
      ]
     },
     "execution_count": 86,
     "metadata": {},
     "output_type": "execute_result"
    }
   ],
   "source": [
    "len(df1)"
   ]
  },
  {
   "cell_type": "code",
   "execution_count": 87,
   "id": "ac1e695d-4e6c-4d23-b85f-11279bc2337f",
   "metadata": {},
   "outputs": [
    {
     "data": {
      "text/plain": [
       "[<matplotlib.lines.Line2D at 0x275de0806e0>]"
      ]
     },
     "execution_count": 87,
     "metadata": {},
     "output_type": "execute_result"
    },
    {
     "data": {
      "image/png": "[encoded data removed]",
      "text/plain": [
       "<Figure size 640x480 with 1 Axes>"
      ]
     },
     "metadata": {},
     "output_type": "display_data"
    }
   ],
   "source": [
    "plt.plot(day_new,scaler.inverse_transform(df1[1157:]))\n",
    "plt.plot(day_pred,scaler.inverse_transform(lst_output))"
   ]
  },
  {
   "cell_type": "code",
   "execution_count": 90,
   "id": "9ea37559-5792-4488-8b81-eef94cdf0097",
   "metadata": {},
   "outputs": [
    {
     "data": {
      "text/plain": [
       "[<matplotlib.lines.Line2D at 0x275eb2de2d0>]"
      ]
     },
     "execution_count": 90,
     "metadata": {},
     "output_type": "execute_result"
    },
    {
     "data": {
      "image/png": "[encoded data removed]",
      "text/plain": [
       "<Figure size 640x480 with 1 Axes>"
      ]
     },
     "metadata": {},
     "output_type": "display_data"
    }
   ],
   "source": [
    "df3=df1.tolist()\n",
    "df3.extend(lst_output)\n",
    "plt.plot(df3[1200:])"
   ]
  },
  {
   "cell_type": "code",
   "execution_count": null,
   "id": "25b42d9c-4617-4bc8-80a0-5414548c4661",
   "metadata": {},
   "outputs": [],
   "source": []
  }
 ],
 "metadata": {
  "kernelspec": {
   "display_name": "Python [conda env:base] *",
   "language": "python",
   "name": "conda-base-py"
  },
  "language_info": {
   "codemirror_mode": {
    "name": "ipython",
    "version": 3
   },
   "file_extension": ".py",
   "mimetype": "text/x-python",
   "name": "python",
   "nbconvert_exporter": "python",
   "pygments_lexer": "ipython3",
   "version": "3.12.7"
  }
 },
 "nbformat": 4,
 "nbformat_minor": 5
}
